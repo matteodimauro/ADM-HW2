{
  "nbformat": 4,
  "nbformat_minor": 0,
  "metadata": {
    "colab": {
      "name": "ADM-HW2.ipynb",
      "provenance": [],
      "collapsed_sections": [],
      "machine_shape": "hm"
    },
    "kernelspec": {
      "display_name": "Python 3",
      "name": "python3"
    }
  },
  "cells": [
    {
      "cell_type": "markdown",
      "metadata": {
        "id": "OjaJvUkubFQV"
      },
      "source": [
        "#Homework 2 ADM"
      ]
    },
    {
      "cell_type": "markdown",
      "metadata": {
        "id": "kXUkJA3pbPQU"
      },
      "source": [
        "## Import utils and Dataframe"
      ]
    },
    {
      "cell_type": "code",
      "metadata": {
        "colab": {
          "base_uri": "https://localhost:8080/"
        },
        "id": "NoTTdoezPzNl",
        "outputId": "77343f4c-b889-4d32-b72f-6f803c507c3d"
      },
      "source": [
        "from google.colab import drive\n",
        "drive.mount('/content/drive', force_remount = True)"
      ],
      "execution_count": 1,
      "outputs": [
        {
          "output_type": "stream",
          "name": "stdout",
          "text": [
            "Mounted at /content/drive\n"
          ]
        }
      ]
    },
    {
      "cell_type": "code",
      "metadata": {
        "colab": {
          "base_uri": "https://localhost:8080/"
        },
        "id": "2R7ujqaUPzK3",
        "outputId": "106e875b-816a-4a0e-9b98-ee50988994f4"
      },
      "source": [
        "## Import Libraries\n",
        "import pandas as pd\n",
        "import numpy as np\n",
        "import seaborn as sns\n",
        "import matplotlib.pyplot as plt\n",
        "import matplotlib.ticker as mtick \n",
        "from matplotlib.ticker import PercentFormatter\n",
        "from statsmodels.graphics.gofplots import qqplot\n",
        "from scipy.stats import shapiro, jarque_bera, mannwhitneyu, spearmanr\n",
        "\n",
        "\n",
        "pd.options.display.min_rows = 99999"
      ],
      "execution_count": 2,
      "outputs": [
        {
          "output_type": "stream",
          "name": "stderr",
          "text": [
            "/usr/local/lib/python3.7/dist-packages/statsmodels/tools/_testing.py:19: FutureWarning: pandas.util.testing is deprecated. Use the functions in the public API at pandas.testing instead.\n",
            "  import pandas.util.testing as tm\n"
          ]
        }
      ]
    },
    {
      "cell_type": "code",
      "metadata": {
        "id": "siKG78D1PzHs"
      },
      "source": [
        "path = '/content/drive/MyDrive/Homework II/archive/steam_reviews.csv'"
      ],
      "execution_count": 3,
      "outputs": []
    },
    {
      "cell_type": "markdown",
      "metadata": {
        "id": "GUFUFJ6IXHMJ"
      },
      "source": [
        "This is just a pattern to upload what you need for the question, to load your dataset with your needed columns, write just the columns you need for other questions"
      ]
    },
    {
      "cell_type": "code",
      "metadata": {
        "id": "LRXffhqgPzGB"
      },
      "source": [
        "## Load Data and drop duplicates.\n",
        "df = pd.read_csv(path)\n",
        "df = df.drop_duplicates()"
      ],
      "execution_count": 4,
      "outputs": []
    },
    {
      "cell_type": "markdown",
      "metadata": {
        "id": "poSciM2gbfp1"
      },
      "source": [
        "## [RQ1]"
      ]
    },
    {
      "cell_type": "markdown",
      "metadata": {
        "id": "Lf_rgRZIbkc6"
      },
      "source": [
        "After collecting information, the Data Scientists have to know what dataset they are dealing with, so let's start with an Exploratory Data Analysis (EDA). What can you say about our dataset? Please summarize its main characteristics with visual and tabular methods."
      ]
    },
    {
      "cell_type": "markdown",
      "metadata": {
        "id": "HscFMw77ydbj"
      },
      "source": [
        "In this first phase of exploratory analysis, we focus on extracting important features from the data. The first step is to calculate the size of the data set. For this first problem the entire data set has been loaded to understand its characteristics, then to deal with the different tasks will be considered only the variables of interest."
      ]
    },
    {
      "cell_type": "code",
      "metadata": {
        "id": "XwT-b530PzCv",
        "colab": {
          "base_uri": "https://localhost:8080/"
        },
        "outputId": "659fa3b2-f4e2-498a-8623-ec8a789be9e0"
      },
      "source": [
        "## Size and type of variables\n",
        "df.info()"
      ],
      "execution_count": 5,
      "outputs": [
        {
          "output_type": "stream",
          "name": "stdout",
          "text": [
            "<class 'pandas.core.frame.DataFrame'>\n",
            "Int64Index: 21747371 entries, 0 to 21747370\n",
            "Data columns (total 23 columns):\n",
            " #   Column                          Dtype  \n",
            "---  ------                          -----  \n",
            " 0   Unnamed: 0                      int64  \n",
            " 1   app_id                          int64  \n",
            " 2   app_name                        object \n",
            " 3   review_id                       int64  \n",
            " 4   language                        object \n",
            " 5   review                          object \n",
            " 6   timestamp_created               int64  \n",
            " 7   timestamp_updated               int64  \n",
            " 8   recommended                     bool   \n",
            " 9   votes_helpful                   int64  \n",
            " 10  votes_funny                     int64  \n",
            " 11  weighted_vote_score             float64\n",
            " 12  comment_count                   int64  \n",
            " 13  steam_purchase                  bool   \n",
            " 14  received_for_free               bool   \n",
            " 15  written_during_early_access     bool   \n",
            " 16  author.steamid                  int64  \n",
            " 17  author.num_games_owned          int64  \n",
            " 18  author.num_reviews              int64  \n",
            " 19  author.playtime_forever         float64\n",
            " 20  author.playtime_last_two_weeks  float64\n",
            " 21  author.playtime_at_review       float64\n",
            " 22  author.last_played              float64\n",
            "dtypes: bool(4), float64(5), int64(11), object(3)\n",
            "memory usage: 3.3+ GB\n"
          ]
        }
      ]
    },
    {
      "cell_type": "markdown",
      "metadata": {
        "id": "to3FUhHCytx5"
      },
      "source": [
        "Note that this dataset contains *21747371 observations(rows)* for *23 features (columns)*. There are also **integer**, **floating** and **boolean** variables.\n"
      ]
    },
    {
      "cell_type": "code",
      "metadata": {
        "id": "QPJ3NPEIPzA5",
        "colab": {
          "base_uri": "https://localhost:8080/"
        },
        "outputId": "36c5b2c4-7b46-4fba-e002-52d453fc0db5"
      },
      "source": [
        "## Null values\n",
        "df.isnull().sum()"
      ],
      "execution_count": 6,
      "outputs": [
        {
          "output_type": "execute_result",
          "data": {
            "text/plain": [
              "Unnamed: 0                            0\n",
              "app_id                                0\n",
              "app_name                              0\n",
              "review_id                             0\n",
              "language                              0\n",
              "review                            33742\n",
              "timestamp_created                     0\n",
              "timestamp_updated                     0\n",
              "recommended                           0\n",
              "votes_helpful                         0\n",
              "votes_funny                           0\n",
              "weighted_vote_score                   0\n",
              "comment_count                         0\n",
              "steam_purchase                        0\n",
              "received_for_free                     0\n",
              "written_during_early_access           0\n",
              "author.steamid                        0\n",
              "author.num_games_owned                0\n",
              "author.num_reviews                    0\n",
              "author.playtime_forever               2\n",
              "author.playtime_last_two_weeks        2\n",
              "author.playtime_at_review         25682\n",
              "author.last_played                    2\n",
              "dtype: int64"
            ]
          },
          "metadata": {},
          "execution_count": 6
        }
      ]
    },
    {
      "cell_type": "markdown",
      "metadata": {
        "id": "C-vSiJdozoH6"
      },
      "source": [
        "Another important operation to be carried out during the EDA concerns the counting of **zero values**. In this case, **33742** null values are recorded for the variable **review**, **25682** for the variable **author.playtime_at_review** and **two** null values for the variables **author.playtime_forever**, **author.playtime_last_two_weeks**, **author.last_played**. However, no interpolation technique or substitution of missing values by point estimates has been applied (example: mean or median interpolation) as the variables mentioned above were not useful for the analysis."
      ]
    },
    {
      "cell_type": "code",
      "metadata": {
        "id": "IBAH1CQjPy9l",
        "colab": {
          "base_uri": "https://localhost:8080/",
          "height": 677
        },
        "outputId": "eefb0276-de30-45b3-a45f-e26bc051585a"
      },
      "source": [
        "## First 5 observations\n",
        "df.head()"
      ],
      "execution_count": 7,
      "outputs": [
        {
          "output_type": "execute_result",
          "data": {
            "text/html": [
              "<div>\n",
              "<style scoped>\n",
              "    .dataframe tbody tr th:only-of-type {\n",
              "        vertical-align: middle;\n",
              "    }\n",
              "\n",
              "    .dataframe tbody tr th {\n",
              "        vertical-align: top;\n",
              "    }\n",
              "\n",
              "    .dataframe thead th {\n",
              "        text-align: right;\n",
              "    }\n",
              "</style>\n",
              "<table border=\"1\" class=\"dataframe\">\n",
              "  <thead>\n",
              "    <tr style=\"text-align: right;\">\n",
              "      <th></th>\n",
              "      <th>Unnamed: 0</th>\n",
              "      <th>app_id</th>\n",
              "      <th>app_name</th>\n",
              "      <th>review_id</th>\n",
              "      <th>language</th>\n",
              "      <th>review</th>\n",
              "      <th>timestamp_created</th>\n",
              "      <th>timestamp_updated</th>\n",
              "      <th>recommended</th>\n",
              "      <th>votes_helpful</th>\n",
              "      <th>votes_funny</th>\n",
              "      <th>weighted_vote_score</th>\n",
              "      <th>comment_count</th>\n",
              "      <th>steam_purchase</th>\n",
              "      <th>received_for_free</th>\n",
              "      <th>written_during_early_access</th>\n",
              "      <th>author.steamid</th>\n",
              "      <th>author.num_games_owned</th>\n",
              "      <th>author.num_reviews</th>\n",
              "      <th>author.playtime_forever</th>\n",
              "      <th>author.playtime_last_two_weeks</th>\n",
              "      <th>author.playtime_at_review</th>\n",
              "      <th>author.last_played</th>\n",
              "    </tr>\n",
              "  </thead>\n",
              "  <tbody>\n",
              "    <tr>\n",
              "      <th>0</th>\n",
              "      <td>0</td>\n",
              "      <td>292030</td>\n",
              "      <td>The Witcher 3: Wild Hunt</td>\n",
              "      <td>85185598</td>\n",
              "      <td>schinese</td>\n",
              "      <td>不玩此生遗憾，RPG游戏里的天花板，太吸引人了</td>\n",
              "      <td>1611381629</td>\n",
              "      <td>1611381629</td>\n",
              "      <td>True</td>\n",
              "      <td>0</td>\n",
              "      <td>0</td>\n",
              "      <td>0.0</td>\n",
              "      <td>0</td>\n",
              "      <td>True</td>\n",
              "      <td>False</td>\n",
              "      <td>False</td>\n",
              "      <td>76561199095369542</td>\n",
              "      <td>6</td>\n",
              "      <td>2</td>\n",
              "      <td>1909.0</td>\n",
              "      <td>1448.0</td>\n",
              "      <td>1909.0</td>\n",
              "      <td>1.611343e+09</td>\n",
              "    </tr>\n",
              "    <tr>\n",
              "      <th>1</th>\n",
              "      <td>1</td>\n",
              "      <td>292030</td>\n",
              "      <td>The Witcher 3: Wild Hunt</td>\n",
              "      <td>85185250</td>\n",
              "      <td>schinese</td>\n",
              "      <td>拔DIAO无情打桩机--杰洛特!!!</td>\n",
              "      <td>1611381030</td>\n",
              "      <td>1611381030</td>\n",
              "      <td>True</td>\n",
              "      <td>0</td>\n",
              "      <td>0</td>\n",
              "      <td>0.0</td>\n",
              "      <td>0</td>\n",
              "      <td>True</td>\n",
              "      <td>False</td>\n",
              "      <td>False</td>\n",
              "      <td>76561198949504115</td>\n",
              "      <td>30</td>\n",
              "      <td>10</td>\n",
              "      <td>2764.0</td>\n",
              "      <td>2743.0</td>\n",
              "      <td>2674.0</td>\n",
              "      <td>1.611386e+09</td>\n",
              "    </tr>\n",
              "    <tr>\n",
              "      <th>2</th>\n",
              "      <td>2</td>\n",
              "      <td>292030</td>\n",
              "      <td>The Witcher 3: Wild Hunt</td>\n",
              "      <td>85185111</td>\n",
              "      <td>schinese</td>\n",
              "      <td>巫师3NB</td>\n",
              "      <td>1611380800</td>\n",
              "      <td>1611380800</td>\n",
              "      <td>True</td>\n",
              "      <td>0</td>\n",
              "      <td>0</td>\n",
              "      <td>0.0</td>\n",
              "      <td>0</td>\n",
              "      <td>True</td>\n",
              "      <td>False</td>\n",
              "      <td>False</td>\n",
              "      <td>76561199090098988</td>\n",
              "      <td>5</td>\n",
              "      <td>1</td>\n",
              "      <td>1061.0</td>\n",
              "      <td>1061.0</td>\n",
              "      <td>1060.0</td>\n",
              "      <td>1.611384e+09</td>\n",
              "    </tr>\n",
              "    <tr>\n",
              "      <th>3</th>\n",
              "      <td>3</td>\n",
              "      <td>292030</td>\n",
              "      <td>The Witcher 3: Wild Hunt</td>\n",
              "      <td>85184605</td>\n",
              "      <td>english</td>\n",
              "      <td>One of the best RPG's of all time, worthy of a...</td>\n",
              "      <td>1611379970</td>\n",
              "      <td>1611379970</td>\n",
              "      <td>True</td>\n",
              "      <td>0</td>\n",
              "      <td>0</td>\n",
              "      <td>0.0</td>\n",
              "      <td>0</td>\n",
              "      <td>True</td>\n",
              "      <td>False</td>\n",
              "      <td>False</td>\n",
              "      <td>76561199054755373</td>\n",
              "      <td>5</td>\n",
              "      <td>3</td>\n",
              "      <td>5587.0</td>\n",
              "      <td>3200.0</td>\n",
              "      <td>5524.0</td>\n",
              "      <td>1.611384e+09</td>\n",
              "    </tr>\n",
              "    <tr>\n",
              "      <th>4</th>\n",
              "      <td>4</td>\n",
              "      <td>292030</td>\n",
              "      <td>The Witcher 3: Wild Hunt</td>\n",
              "      <td>85184287</td>\n",
              "      <td>schinese</td>\n",
              "      <td>大作</td>\n",
              "      <td>1611379427</td>\n",
              "      <td>1611379427</td>\n",
              "      <td>True</td>\n",
              "      <td>0</td>\n",
              "      <td>0</td>\n",
              "      <td>0.0</td>\n",
              "      <td>0</td>\n",
              "      <td>True</td>\n",
              "      <td>False</td>\n",
              "      <td>False</td>\n",
              "      <td>76561199028326951</td>\n",
              "      <td>7</td>\n",
              "      <td>4</td>\n",
              "      <td>217.0</td>\n",
              "      <td>42.0</td>\n",
              "      <td>217.0</td>\n",
              "      <td>1.610788e+09</td>\n",
              "    </tr>\n",
              "  </tbody>\n",
              "</table>\n",
              "</div>"
            ],
            "text/plain": [
              "   Unnamed: 0  app_id  ... author.playtime_at_review  author.last_played\n",
              "0           0  292030  ...                    1909.0        1.611343e+09\n",
              "1           1  292030  ...                    2674.0        1.611386e+09\n",
              "2           2  292030  ...                    1060.0        1.611384e+09\n",
              "3           3  292030  ...                    5524.0        1.611384e+09\n",
              "4           4  292030  ...                     217.0        1.610788e+09\n",
              "\n",
              "[5 rows x 23 columns]"
            ]
          },
          "metadata": {},
          "execution_count": 7
        }
      ]
    },
    {
      "cell_type": "code",
      "metadata": {
        "id": "qL8WTaPnPy7m",
        "colab": {
          "base_uri": "https://localhost:8080/",
          "height": 643
        },
        "outputId": "367d9649-6415-4bcf-ed05-8747ba19ff3d"
      },
      "source": [
        "## Last 5 observations\n",
        "df.tail()"
      ],
      "execution_count": 8,
      "outputs": [
        {
          "output_type": "execute_result",
          "data": {
            "text/html": [
              "<div>\n",
              "<style scoped>\n",
              "    .dataframe tbody tr th:only-of-type {\n",
              "        vertical-align: middle;\n",
              "    }\n",
              "\n",
              "    .dataframe tbody tr th {\n",
              "        vertical-align: top;\n",
              "    }\n",
              "\n",
              "    .dataframe thead th {\n",
              "        text-align: right;\n",
              "    }\n",
              "</style>\n",
              "<table border=\"1\" class=\"dataframe\">\n",
              "  <thead>\n",
              "    <tr style=\"text-align: right;\">\n",
              "      <th></th>\n",
              "      <th>Unnamed: 0</th>\n",
              "      <th>app_id</th>\n",
              "      <th>app_name</th>\n",
              "      <th>review_id</th>\n",
              "      <th>language</th>\n",
              "      <th>review</th>\n",
              "      <th>timestamp_created</th>\n",
              "      <th>timestamp_updated</th>\n",
              "      <th>recommended</th>\n",
              "      <th>votes_helpful</th>\n",
              "      <th>votes_funny</th>\n",
              "      <th>weighted_vote_score</th>\n",
              "      <th>comment_count</th>\n",
              "      <th>steam_purchase</th>\n",
              "      <th>received_for_free</th>\n",
              "      <th>written_during_early_access</th>\n",
              "      <th>author.steamid</th>\n",
              "      <th>author.num_games_owned</th>\n",
              "      <th>author.num_reviews</th>\n",
              "      <th>author.playtime_forever</th>\n",
              "      <th>author.playtime_last_two_weeks</th>\n",
              "      <th>author.playtime_at_review</th>\n",
              "      <th>author.last_played</th>\n",
              "    </tr>\n",
              "  </thead>\n",
              "  <tbody>\n",
              "    <tr>\n",
              "      <th>21747366</th>\n",
              "      <td>21747371</td>\n",
              "      <td>546560</td>\n",
              "      <td>Half-Life: Alyx</td>\n",
              "      <td>65645125</td>\n",
              "      <td>english</td>\n",
              "      <td>Holy balls</td>\n",
              "      <td>1584986704</td>\n",
              "      <td>1584986704</td>\n",
              "      <td>True</td>\n",
              "      <td>0</td>\n",
              "      <td>0</td>\n",
              "      <td>0.000000</td>\n",
              "      <td>0</td>\n",
              "      <td>True</td>\n",
              "      <td>False</td>\n",
              "      <td>False</td>\n",
              "      <td>76561197967033932</td>\n",
              "      <td>431</td>\n",
              "      <td>7</td>\n",
              "      <td>432.0</td>\n",
              "      <td>0.0</td>\n",
              "      <td>29.0</td>\n",
              "      <td>1.586628e+09</td>\n",
              "    </tr>\n",
              "    <tr>\n",
              "      <th>21747367</th>\n",
              "      <td>21747372</td>\n",
              "      <td>546560</td>\n",
              "      <td>Half-Life: Alyx</td>\n",
              "      <td>65645115</td>\n",
              "      <td>english</td>\n",
              "      <td>A tripod thing bears down on you, it looks imm...</td>\n",
              "      <td>1584986693</td>\n",
              "      <td>1584986693</td>\n",
              "      <td>True</td>\n",
              "      <td>0</td>\n",
              "      <td>0</td>\n",
              "      <td>0.000000</td>\n",
              "      <td>0</td>\n",
              "      <td>False</td>\n",
              "      <td>False</td>\n",
              "      <td>False</td>\n",
              "      <td>76561198046495482</td>\n",
              "      <td>70</td>\n",
              "      <td>10</td>\n",
              "      <td>3296.0</td>\n",
              "      <td>15.0</td>\n",
              "      <td>24.0</td>\n",
              "      <td>1.611080e+09</td>\n",
              "    </tr>\n",
              "    <tr>\n",
              "      <th>21747368</th>\n",
              "      <td>21747373</td>\n",
              "      <td>546560</td>\n",
              "      <td>Half-Life: Alyx</td>\n",
              "      <td>65645100</td>\n",
              "      <td>english</td>\n",
              "      <td>Honestly this is the best vr game ever</td>\n",
              "      <td>1584986673</td>\n",
              "      <td>1584986673</td>\n",
              "      <td>True</td>\n",
              "      <td>0</td>\n",
              "      <td>0</td>\n",
              "      <td>0.474138</td>\n",
              "      <td>0</td>\n",
              "      <td>True</td>\n",
              "      <td>False</td>\n",
              "      <td>False</td>\n",
              "      <td>76561198176379749</td>\n",
              "      <td>79</td>\n",
              "      <td>17</td>\n",
              "      <td>2654.0</td>\n",
              "      <td>0.0</td>\n",
              "      <td>34.0</td>\n",
              "      <td>1.591634e+09</td>\n",
              "    </tr>\n",
              "    <tr>\n",
              "      <th>21747369</th>\n",
              "      <td>21747374</td>\n",
              "      <td>546560</td>\n",
              "      <td>Half-Life: Alyx</td>\n",
              "      <td>65645066</td>\n",
              "      <td>english</td>\n",
              "      <td>Smooth turning is not working right now.\\nIt a...</td>\n",
              "      <td>1584986631</td>\n",
              "      <td>1586382422</td>\n",
              "      <td>True</td>\n",
              "      <td>0</td>\n",
              "      <td>0</td>\n",
              "      <td>0.386022</td>\n",
              "      <td>11</td>\n",
              "      <td>True</td>\n",
              "      <td>False</td>\n",
              "      <td>False</td>\n",
              "      <td>76561198041763187</td>\n",
              "      <td>140</td>\n",
              "      <td>3</td>\n",
              "      <td>210.0</td>\n",
              "      <td>0.0</td>\n",
              "      <td>12.0</td>\n",
              "      <td>1.589715e+09</td>\n",
              "    </tr>\n",
              "    <tr>\n",
              "      <th>21747370</th>\n",
              "      <td>21747375</td>\n",
              "      <td>546560</td>\n",
              "      <td>Half-Life: Alyx</td>\n",
              "      <td>65644930</td>\n",
              "      <td>schinese</td>\n",
              "      <td>WMR加载中闪退，无法进入游戏\\nWMR Flashback in Load，cant pl...</td>\n",
              "      <td>1584986505</td>\n",
              "      <td>1592060800</td>\n",
              "      <td>True</td>\n",
              "      <td>0</td>\n",
              "      <td>0</td>\n",
              "      <td>0.416107</td>\n",
              "      <td>5</td>\n",
              "      <td>True</td>\n",
              "      <td>False</td>\n",
              "      <td>False</td>\n",
              "      <td>76561198116747069</td>\n",
              "      <td>253</td>\n",
              "      <td>7</td>\n",
              "      <td>1062.0</td>\n",
              "      <td>0.0</td>\n",
              "      <td>8.0</td>\n",
              "      <td>1.602858e+09</td>\n",
              "    </tr>\n",
              "  </tbody>\n",
              "</table>\n",
              "</div>"
            ],
            "text/plain": [
              "          Unnamed: 0  app_id  ... author.playtime_at_review  author.last_played\n",
              "21747366    21747371  546560  ...                      29.0        1.586628e+09\n",
              "21747367    21747372  546560  ...                      24.0        1.611080e+09\n",
              "21747368    21747373  546560  ...                      34.0        1.591634e+09\n",
              "21747369    21747374  546560  ...                      12.0        1.589715e+09\n",
              "21747370    21747375  546560  ...                       8.0        1.602858e+09\n",
              "\n",
              "[5 rows x 23 columns]"
            ]
          },
          "metadata": {},
          "execution_count": 8
        }
      ]
    },
    {
      "cell_type": "markdown",
      "metadata": {
        "id": "P14nfkyE07Js"
      },
      "source": [
        "Another step is to observe the head and the tail of the data respectively to have a first *visual approach* of the table under examination. Proceed by displaying only the first 5 observations and the last 5 because the size of the dataset does not allow a complete display. After the first phase of exploration of data types, characteristics are extracted from the data. The first question that arises is how many videogames are present in the dataset."
      ]
    },
    {
      "cell_type": "code",
      "metadata": {
        "id": "7kFOSr49Py4J",
        "colab": {
          "base_uri": "https://localhost:8080/"
        },
        "outputId": "375d05f0-3433-4f37-af46-7c18f1599a0f"
      },
      "source": [
        "## How many different VideoGames?\n",
        "df.app_name.nunique()"
      ],
      "execution_count": 9,
      "outputs": [
        {
          "output_type": "execute_result",
          "data": {
            "text/plain": [
              "315"
            ]
          },
          "metadata": {},
          "execution_count": 9
        }
      ]
    },
    {
      "cell_type": "markdown",
      "metadata": {
        "id": "qMk3I8Q51gCj"
      },
      "source": [
        "Below is a ranking of the twenty games with more **reviews**. In particular, for each game there is the number of reviews expressed both in absolute value, also reported in the barplot that follows, that in relative value, that is in percentage of the total of the reviews present in the dataset."
      ]
    },
    {
      "cell_type": "code",
      "metadata": {
        "id": "glg3O7z9T8OE",
        "colab": {
          "base_uri": "https://localhost:8080/"
        },
        "outputId": "b4667397-dc2c-49b8-a61f-9dab609d1494"
      },
      "source": [
        "## Percentage of Top 20 games with the most reviews\n",
        "total = df.app_name.value_counts().sum()\n",
        "perc = round(df.app_name.value_counts() / total * 100, 3)\n",
        "print('Percentage of Top 20 games with the most reviews: \\n')\n",
        "perc.head(20)\n"
      ],
      "execution_count": 10,
      "outputs": [
        {
          "output_type": "stream",
          "name": "stdout",
          "text": [
            "Percentage of Top 20 games with the most reviews: \n",
            "\n"
          ]
        },
        {
          "output_type": "execute_result",
          "data": {
            "text/plain": [
              "PLAYERUNKNOWN'S BATTLEGROUNDS     7.561\n",
              "Grand Theft Auto V                4.686\n",
              "Tom Clancy's Rainbow Six Siege    3.871\n",
              "Terraria                          3.094\n",
              "Garry's Mod                       3.014\n",
              "Rust                              2.525\n",
              "Rocket League                     2.293\n",
              "PAYDAY 2                          2.243\n",
              "Among Us                          2.232\n",
              "The Witcher 3: Wild Hunt          2.158\n",
              "Dead by Daylight                  1.926\n",
              "ARK: Survival Evolved             1.839\n",
              "Euro Truck Simulator 2            1.782\n",
              "Stardew Valley                    1.452\n",
              "The Elder Scrolls V: Skyrim       1.356\n",
              "Wallpaper Engine                  1.346\n",
              "Monster Hunter: World             1.338\n",
              "Hollow Knight                     1.241\n",
              "The Forest                        1.102\n",
              "Don't Starve Together             1.097\n",
              "Name: app_name, dtype: float64"
            ]
          },
          "metadata": {},
          "execution_count": 10
        }
      ]
    },
    {
      "cell_type": "code",
      "metadata": {
        "id": "1-jYXNxePy2Z",
        "colab": {
          "base_uri": "https://localhost:8080/",
          "height": 367
        },
        "outputId": "ce3ff58b-e304-4ae7-b339-4bfd08e22b3f"
      },
      "source": [
        "## Plot of the 20 games with the most reviews \n",
        "df.app_name.value_counts().head(20).sort_values(ascending = True).plot.barh(figsize = (12, 5)).get_xaxis().get_major_formatter().set_scientific(False)\n",
        "plt.ylabel('VideoGame')\n",
        "plt.xlabel('Number of Iterations')\n",
        "plt.title('Top 20 games with the most reviews')"
      ],
      "execution_count": 11,
      "outputs": [
        {
          "output_type": "execute_result",
          "data": {
            "text/plain": [
              "Text(0.5, 1.0, 'Top 20 games with the most reviews')"
            ]
          },
          "metadata": {},
          "execution_count": 11
        },
        {
          "output_type": "display_data",
          "data": {
            "image/png": "[encoded data removed]",
            "text/plain": [
              "<Figure size 864x360 with 1 Axes>"
            ]
          },
          "metadata": {
            "needs_background": "light"
          }
        }
      ]
    },
    {
      "cell_type": "markdown",
      "metadata": {
        "id": "TQ4cWAj62E0E"
      },
      "source": [
        "The 20 videogames with more reviews are shown in the figure. \n",
        "Note that at the top of the ranking there is the videogame **PLAYERUNKNOWN’S BATTLEGROUNDS** with more than a million and six hundred thousand reviews received and a percentage of **7.5%**.\n",
        "The second game by number of reviews is **Grand Theft Auto V**, with just over a million reviews and a percentage of **4.68%**.\n",
        "Following is **Tom Clancy’s Rainbow Six Siege** with more than eight hundred thousand reviews and a percentage of **3.87%**.\n",
        "It is interesting to note that the gap between the first and the second videogame is much more marked than the differences that occur, for example, between the second and third videogame. This indicates a distinct advantage in terms of the number of reviews for the game **PLAYERUNKNOWN’S BATTLEGROUNDS**."
      ]
    },
    {
      "cell_type": "code",
      "metadata": {
        "id": "ubLLSvfMZqEB",
        "colab": {
          "base_uri": "https://localhost:8080/",
          "height": 367
        },
        "outputId": "522ba29e-f3d8-42d3-9579-108df77e6e99"
      },
      "source": [
        "## Distribution of Recommended by PLAYERUNKNOWN'S BATTLEGROUNDS \n",
        "plt1 = df[df[\"app_name\"] ==  \"PLAYERUNKNOWN'S BATTLEGROUNDS\"]\n",
        "plt1.recommended.value_counts().sort_values(ascending = True).plot.barh(figsize = (12, 5)).get_xaxis().get_major_formatter().set_scientific(False)\n",
        "plt.ylabel('Recommended')\n",
        "plt.xlabel('Count')\n",
        "plt.title(\"Distribution of Recommended - PLAYERUNKNOWN'S BATTLEGROUNDS\")"
      ],
      "execution_count": 12,
      "outputs": [
        {
          "output_type": "execute_result",
          "data": {
            "text/plain": [
              "Text(0.5, 1.0, \"Distribution of Recommended - PLAYERUNKNOWN'S BATTLEGROUNDS\")"
            ]
          },
          "metadata": {},
          "execution_count": 12
        },
        {
          "output_type": "display_data",
          "data": {
            "image/png": "[encoded data removed]",
            "text/plain": [
              "<Figure size 864x360 with 1 Axes>"
            ]
          },
          "metadata": {
            "needs_background": "light"
          }
        }
      ]
    },
    {
      "cell_type": "markdown",
      "metadata": {
        "id": "0LXbr8f73yPd"
      },
      "source": [
        "In addition to the number of reviews received, however, it is very useful and above all interesting to understand the percentage of positive reviews on the total of reviews received. In fact, the total number of reviews received does not add any information about the popularity of that game by that audience, but it just gives you an idea of how popular it is and makes you talk about it.\n",
        "Taking advantage of the presence of the boolean variable **Recommended** within the dataset, which indicates whether the review received is positive or not, or recommend the app or not, you can condition it and make a plot.\n",
        "As you can see, in fact, the game under consideration is very popular but *divides* users who have shared more than eight hundred thousand positive reviews, but also more than seven hundred thousand negative reviews."
      ]
    },
    {
      "cell_type": "code",
      "metadata": {
        "id": "lEm09KZx3n5Y",
        "colab": {
          "base_uri": "https://localhost:8080/",
          "height": 367
        },
        "outputId": "3d91981b-ddde-46ba-9353-13235a76ec5e"
      },
      "source": [
        "## Distribution of Recommended by Grand Theft Auto V \n",
        "plt2 = df[df[\"app_name\"] ==  \"Grand Theft Auto V\"]\n",
        "plt2.recommended.value_counts().sort_values(ascending = True).plot.barh(figsize = (12, 5)).get_xaxis().get_major_formatter().set_scientific(False)\n",
        "plt.ylabel('Recommended')\n",
        "plt.xlabel('Count')\n",
        "plt.title(\"Distribution of Recommended - Grand Theft Auto V\")"
      ],
      "execution_count": 13,
      "outputs": [
        {
          "output_type": "execute_result",
          "data": {
            "text/plain": [
              "Text(0.5, 1.0, 'Distribution of Recommended - Grand Theft Auto V')"
            ]
          },
          "metadata": {},
          "execution_count": 13
        },
        {
          "output_type": "display_data",
          "data": {
            "image/png": "[encoded data removed]",
            "text/plain": [
              "<Figure size 864x360 with 1 Axes>"
            ]
          },
          "metadata": {
            "needs_background": "light"
          }
        }
      ]
    },
    {
      "cell_type": "markdown",
      "metadata": {
        "id": "58kIgxUY3jNN"
      },
      "source": [
        "Opposite situation you notice on the second game.\n",
        "There are in fact more than eight hundred thousand positive reviews and less than two hundred thousand negative reviews, which means that **most users of this game like it**. In particular, the percentage is about **80%**."
      ]
    },
    {
      "cell_type": "markdown",
      "metadata": {
        "id": "3tAABrEk6Wwn"
      },
      "source": [
        "**----------------------------------------------------------------------------**"
      ]
    },
    {
      "cell_type": "markdown",
      "metadata": {
        "id": "RRvy09ST6dPh"
      },
      "source": [
        "Shifting the focus to the **language** variable, the first question asked is how many languages are present in the dataset? \n",
        "Or in how many different languages were the reviews written?\n",
        "\n",
        "Later, the most commonly used languages for writing reviews were plotted."
      ]
    },
    {
      "cell_type": "code",
      "metadata": {
        "id": "rYZgkcJNPyy-",
        "colab": {
          "base_uri": "https://localhost:8080/"
        },
        "outputId": "a7e8284c-6d76-43c1-a13d-b81d5de379ca"
      },
      "source": [
        "## How many different languages ​​were the reviews written in?\n",
        "df.language.nunique()"
      ],
      "execution_count": 14,
      "outputs": [
        {
          "output_type": "execute_result",
          "data": {
            "text/plain": [
              "28"
            ]
          },
          "metadata": {},
          "execution_count": 14
        }
      ]
    },
    {
      "cell_type": "code",
      "metadata": {
        "id": "s5a66kce7NLQ",
        "colab": {
          "base_uri": "https://localhost:8080/"
        },
        "outputId": "e2f10bc3-6171-4520-eec8-c37003b068bc"
      },
      "source": [
        "## Percentage of used languages for review\n",
        "total_lang = df.language.value_counts().sum()\n",
        "perc_lang = round(df.language.value_counts() / total_lang * 100, 3)\n",
        "print('Percentage of used languages reviews: \\n')\n",
        "perc_lang"
      ],
      "execution_count": 15,
      "outputs": [
        {
          "output_type": "stream",
          "name": "stdout",
          "text": [
            "Percentage of used languages reviews: \n",
            "\n"
          ]
        },
        {
          "output_type": "execute_result",
          "data": {
            "text/plain": [
              "english       44.306\n",
              "schinese      17.312\n",
              "russian       10.801\n",
              "brazilian      3.851\n",
              "spanish        3.740\n",
              "german         3.461\n",
              "turkish        2.924\n",
              "koreana        2.822\n",
              "french         2.491\n",
              "polish         2.279\n",
              "tchinese       1.003\n",
              "czech          0.616\n",
              "italian        0.613\n",
              "thai           0.586\n",
              "japanese       0.376\n",
              "portuguese     0.374\n",
              "swedish        0.369\n",
              "dutch          0.357\n",
              "hungarian      0.326\n",
              "latam          0.322\n",
              "danish         0.257\n",
              "finnish        0.252\n",
              "norwegian      0.169\n",
              "romanian       0.151\n",
              "ukrainian      0.097\n",
              "greek          0.067\n",
              "bulgarian      0.048\n",
              "vietnamese     0.030\n",
              "Name: language, dtype: float64"
            ]
          },
          "metadata": {},
          "execution_count": 15
        }
      ]
    },
    {
      "cell_type": "code",
      "metadata": {
        "id": "fN6jIfyjPyxc",
        "colab": {
          "base_uri": "https://localhost:8080/",
          "height": 367
        },
        "outputId": "103a9cdb-a696-4fdb-8046-c3d3776a1638"
      },
      "source": [
        "## Plot most used languages for reviews\n",
        "df.language.value_counts().sort_values(ascending = True).plot.barh(figsize = (12, 5)).get_xaxis().get_major_formatter().set_scientific(False)\n",
        "plt.ylabel('Language')\n",
        "plt.xlabel('Number of Reviews')\n",
        "plt.title('Used languages ​​for reviews')"
      ],
      "execution_count": 16,
      "outputs": [
        {
          "output_type": "execute_result",
          "data": {
            "text/plain": [
              "Text(0.5, 1.0, 'Used languages \\u200b\\u200bfor reviews')"
            ]
          },
          "metadata": {},
          "execution_count": 16
        },
        {
          "output_type": "display_data",
          "data": {
            "image/png": "[encoded data removed]",
            "text/plain": [
              "<Figure size 864x360 with 1 Axes>"
            ]
          },
          "metadata": {
            "needs_background": "light"
          }
        }
      ]
    },
    {
      "cell_type": "markdown",
      "metadata": {
        "id": "cHNSI3ha7G3I"
      },
      "source": [
        "As one might expect, nearly ten billion reviews have been written in **english**, which is therefore the most widely used language for reviews in **44.3%** of cases.\n",
        "In second place is the simplified **chinese**, with four million reviews and a percentage of **17.3%** followed by the **russian** with more than two million reviews and a percentage of **10.8%**.\n",
        "It is interesting to note that the english language is the most widely used for the publication of reviews."
      ]
    },
    {
      "cell_type": "code",
      "metadata": {
        "id": "bDgr1RpfPyuF",
        "colab": {
          "base_uri": "https://localhost:8080/",
          "height": 367
        },
        "outputId": "180006cc-8f87-42a1-9e89-7cca5d992b86"
      },
      "source": [
        "## Distribution of Recommended\n",
        "df.recommended.value_counts().sort_values(ascending = True).plot.barh(figsize = (12, 5)).get_xaxis().get_major_formatter().set_scientific(False)\n",
        "plt.ylabel('Recommended')\n",
        "plt.xlabel('Count')\n",
        "plt.title('Distribution of Recommended')"
      ],
      "execution_count": 17,
      "outputs": [
        {
          "output_type": "execute_result",
          "data": {
            "text/plain": [
              "Text(0.5, 1.0, 'Distribution of Recommended')"
            ]
          },
          "metadata": {},
          "execution_count": 17
        },
        {
          "output_type": "display_data",
          "data": {
            "image/png": "[encoded data removed]",
            "text/plain": [
              "<Figure size 864x360 with 1 Axes>"
            ]
          },
          "metadata": {
            "needs_background": "light"
          }
        }
      ]
    },
    {
      "cell_type": "markdown",
      "metadata": {
        "id": "D_SfGJOa-Fws"
      },
      "source": [
        "At the end of this first step concerning EDA, one can concentrate without any kind of conditioning on the other variables, on the type of recommendation, if it is positive or negative. You see how most reviews regarding the games in this data set are positive, with a small portion of negative reviews.\n"
      ]
    },
    {
      "cell_type": "markdown",
      "metadata": {
        "id": "J4VH719SbpuI"
      },
      "source": [
        "### [RQ2]"
      ]
    },
    {
      "cell_type": "markdown",
      "metadata": {
        "id": "VY912ibNbsk0"
      },
      "source": [
        "Let's explore the dataset by finding simple insights into the reviews.\n",
        "\n",
        "\n",
        "* Plot the number of reviews for each application in descending order.\n",
        "* What applications have the best Weighted Vote Score?\n",
        "* Which applications have the most and the least recommendations?\n",
        "* How many of these applications were purchased, and how many were given for free?"
      ]
    },
    {
      "cell_type": "markdown",
      "metadata": {
        "id": "VTVx6-C4byLz"
      },
      "source": [
        "### [RQ2 - a]"
      ]
    },
    {
      "cell_type": "code",
      "metadata": {
        "id": "lTI9d4i8PysQ",
        "colab": {
          "base_uri": "https://localhost:8080/",
          "height": 367
        },
        "outputId": "187ddd54-f381-46bf-b080-96c116073d15"
      },
      "source": [
        "## Plot of the 20 games with the most reviews \n",
        "df.app_name.value_counts().head(20).sort_values(ascending = True).plot.barh(figsize = (12, 5)).get_xaxis().get_major_formatter().set_scientific(False)\n",
        "plt.ylabel('VideoGame')\n",
        "plt.xlabel('Number of Iterations')\n",
        "plt.title('Top 20 games with the most reviews')"
      ],
      "execution_count": 18,
      "outputs": [
        {
          "output_type": "execute_result",
          "data": {
            "text/plain": [
              "Text(0.5, 1.0, 'Top 20 games with the most reviews')"
            ]
          },
          "metadata": {},
          "execution_count": 18
        },
        {
          "output_type": "display_data",
          "data": {
            "image/png": "[encoded data removed]",
            "text/plain": [
              "<Figure size 864x360 with 1 Axes>"
            ]
          },
          "metadata": {
            "needs_background": "light"
          }
        }
      ]
    },
    {
      "cell_type": "markdown",
      "metadata": {
        "id": "so0-G6jikqD3"
      },
      "source": [
        "for comment see EDA point."
      ]
    },
    {
      "cell_type": "markdown",
      "metadata": {
        "id": "Ks1sqrOLb-BR"
      },
      "source": [
        "### [RQ2 - b]"
      ]
    },
    {
      "cell_type": "code",
      "metadata": {
        "id": "PTmMrp_lPynX",
        "colab": {
          "base_uri": "https://localhost:8080/"
        },
        "outputId": "4a9f3af0-aa4f-47e7-b06c-2312884ccb2b"
      },
      "source": [
        "## Applications with best Weighted Vote Score\n",
        "wvs = df.groupby(['app_name']).weighted_vote_score.max().sort_values(ascending = False).head(20)\n",
        "print('Applications with best Weighted Vote Score:\\n', wvs)"
      ],
      "execution_count": 19,
      "outputs": [
        {
          "output_type": "stream",
          "name": "stdout",
          "text": [
            "Applications with best Weighted Vote Score:\n",
            " app_name\n",
            "Stardew Valley                 0.995987\n",
            "Divinity: Original Sin 2       0.995245\n",
            "Subnautica                     0.994453\n",
            "Mirror                         0.994038\n",
            "Wallpaper Engine               0.993540\n",
            "Terraria                       0.992892\n",
            "The Forest                     0.992581\n",
            "Monster Hunter: World          0.992500\n",
            "The Elder Scrolls Online       0.992356\n",
            "Human: Fall Flat               0.992336\n",
            "DARK SOULS™ III                0.992332\n",
            "No Man's Sky                   0.992270\n",
            "Undertale                      0.992158\n",
            "Kenshi                         0.991505\n",
            "DEATH STRANDING                0.991487\n",
            "Watch_Dogs 2                   0.991107\n",
            "Darkest Dungeon®               0.990796\n",
            "Frostpunk                      0.990510\n",
            "The Elder Scrolls V: Skyrim    0.990440\n",
            "The Witcher 3: Wild Hunt       0.990385\n",
            "Name: weighted_vote_score, dtype: float64\n"
          ]
        }
      ]
    },
    {
      "cell_type": "markdown",
      "metadata": {
        "id": "czbjcNf2mvfw"
      },
      "source": [
        "The table below shows that the game with the highest weighted score is **Stardew Valley** with a score of **0.996**, followed by **Divinity: Original Sin 2** with a score of **0.995** and with the game **Subnautica** with a score of **0.994**."
      ]
    },
    {
      "cell_type": "markdown",
      "metadata": {
        "id": "PuATkhN3cF1-"
      },
      "source": [
        "### [RQ2 - c]"
      ]
    },
    {
      "cell_type": "code",
      "metadata": {
        "id": "qo_bAl0yPykK",
        "colab": {
          "base_uri": "https://localhost:8080/"
        },
        "outputId": "4b9e3ed3-feda-476b-978a-7b70decb31e3"
      },
      "source": [
        "## Applications have the most and the least recommendations \n",
        "rec = df.groupby(['app_name']).recommended.sum().sort_values(ascending = False)\n",
        "print('Top ten:\\n', rec.head(10))\n",
        "\n",
        "print('Last ten:\\n', rec.tail(10))"
      ],
      "execution_count": 20,
      "outputs": [
        {
          "output_type": "stream",
          "name": "stdout",
          "text": [
            "Top ten:\n",
            " app_name\n",
            "PLAYERUNKNOWN'S BATTLEGROUNDS     886417\n",
            "Grand Theft Auto V                831311\n",
            "Tom Clancy's Rainbow Six Siege    742397\n",
            "Terraria                          658741\n",
            "Garry's Mod                       632558\n",
            "Rust                              468892\n",
            "Among Us                          463287\n",
            "The Witcher 3: Wild Hunt          460252\n",
            "Rocket League                     449464\n",
            "PAYDAY 2                          428136\n",
            "Name: recommended, dtype: int64\n",
            "Last ten:\n",
            " app_name\n",
            "Down To One                    797\n",
            "Urban Empire                   759\n",
            "Umbrella Corps                 707\n",
            "Hunt Down The Freeman          689\n",
            "Rapture Rejects                672\n",
            "Out of the Park Baseball 19    594\n",
            "Shadow Complex Remastered      587\n",
            "Identity                       439\n",
            "DRAGON QUEST HEROES™ II        423\n",
            "Neon Hardcorps                  89\n",
            "Name: recommended, dtype: int64\n"
          ]
        }
      ]
    },
    {
      "cell_type": "markdown",
      "metadata": {
        "id": "kVd2vohuoh3K"
      },
      "source": [
        "The table shows that applications with more recommendations are **PLAYERUNKNOWN’S BATTLEGROUNDS**, followed by **Grand Theft Auto V** and **Tom Clancy’s Rainbow Six Siege**.\n",
        "While the last three apps with the least recommendations are **Identity**, followed by **DRAGON QUEST HEROES™ II** and **Neon Hardcorps**."
      ]
    },
    {
      "cell_type": "markdown",
      "metadata": {
        "id": "i_ZaXZ7RcOYO"
      },
      "source": [
        "### [RQ2 - d]"
      ]
    },
    {
      "cell_type": "code",
      "metadata": {
        "id": "OueBKH9d0BfW"
      },
      "source": [
        "## How many of these applications were purchased, and how many were given for free?\n",
        "use = ['received_for_free']\n",
        "df2 = pd.read_csv(path, usecols = use)"
      ],
      "execution_count": 21,
      "outputs": []
    },
    {
      "cell_type": "code",
      "metadata": {
        "id": "srwqOHW1x1mR",
        "colab": {
          "base_uri": "https://localhost:8080/"
        },
        "outputId": "73fcacd2-cedd-433f-9e8a-e4241018a3d5"
      },
      "source": [
        "free = df2.sum().reset_index()[0][0]\n",
        "tot = df2.shape[0]\n",
        "purch = tot - free\n",
        "print(f'Applications purchased: {round((purch / tot * 100), 2)}% ({purch}). Applications given for free: {round((free / tot * 100), 2)}% ({free}).')"
      ],
      "execution_count": 22,
      "outputs": [
        {
          "output_type": "stream",
          "name": "stdout",
          "text": [
            "Applications purchased: 96.84% (21059310). Applications given for free: 3.16% (688061).\n"
          ]
        }
      ]
    },
    {
      "cell_type": "markdown",
      "metadata": {
        "id": "9o7njiuTXWrW"
      },
      "source": [
        "## [RQ3]"
      ]
    },
    {
      "cell_type": "markdown",
      "metadata": {
        "id": "w1SBxYYkXZ_A"
      },
      "source": [
        "Now it's important to understand the preferred time to do reviews.\n",
        "\n",
        "* What is the most common time that authors review an application? For example, authors usually write a review at 17:44.\n",
        "* Create a function that receives as a parameter a list of time intervals and returns the plot the number of reviews for each of the intervals.\n",
        "* Use the function that you created in the previous literal to plot the number of reviews between the following time intervals:"
      ]
    },
    {
      "cell_type": "code",
      "metadata": {
        "id": "wGDRNfkIPyUz"
      },
      "source": [
        "from datetime import datetime"
      ],
      "execution_count": 23,
      "outputs": []
    },
    {
      "cell_type": "code",
      "metadata": {
        "id": "n9PmsNfAPySu"
      },
      "source": [
        "## Create a function for parsing date.\n",
        "def dateparse(time_in_secs):\n",
        "  return pd.to_datetime(time_in_secs, unit = 's')"
      ],
      "execution_count": 24,
      "outputs": []
    },
    {
      "cell_type": "markdown",
      "metadata": {
        "id": "aciSVp1DYMXA"
      },
      "source": [
        "### [RQ3 - a]"
      ]
    },
    {
      "cell_type": "code",
      "metadata": {
        "id": "Dw2yTdQsr1oq"
      },
      "source": [
        "## Parsing timestamp_created and timestamp_updated.\n",
        "df3 = df.filter(['timestamp_created', 'timestamp_updated', 'review_id'])\n",
        "df3.timestamp_created = dateparse(df3.timestamp_created);\n",
        "df3.timestamp_updated = dateparse(df3.timestamp_updated);"
      ],
      "execution_count": 25,
      "outputs": []
    },
    {
      "cell_type": "code",
      "metadata": {
        "id": "6s9XpTY-5LXu",
        "colab": {
          "base_uri": "https://localhost:8080/"
        },
        "outputId": "27002e83-9316-47ad-9c67-59566838cd8e"
      },
      "source": [
        "## Most common time that authors review an application.\n",
        "df3.timestamp_created.dt.time.value_counts().head(3)"
      ],
      "execution_count": 26,
      "outputs": [
        {
          "output_type": "execute_result",
          "data": {
            "text/plain": [
              "15:54:53    583\n",
              "17:56:41    393\n",
              "15:24:50    390\n",
              "Name: timestamp_created, dtype: int64"
            ]
          },
          "metadata": {},
          "execution_count": 26
        }
      ]
    },
    {
      "cell_type": "code",
      "metadata": {
        "id": "KeoYHvjNPyK8",
        "colab": {
          "base_uri": "https://localhost:8080/",
          "height": 367
        },
        "outputId": "9c33ec2d-35e1-494a-ac64-c647e258a2dd"
      },
      "source": [
        "## Plot of Number of reviews for commont time.\n",
        "df3.timestamp_created.dt.time.value_counts().head(3).sort_values(ascending = True).plot.barh(figsize = (12, 5)).get_xaxis().get_major_formatter().set_scientific(False)\n",
        "plt.ylabel('Time')\n",
        "plt.xlabel('Number of Reviews')\n",
        "plt.title('Number of reviews for most commont time')"
      ],
      "execution_count": 27,
      "outputs": [
        {
          "output_type": "execute_result",
          "data": {
            "text/plain": [
              "Text(0.5, 1.0, 'Number of reviews for most commont time')"
            ]
          },
          "metadata": {},
          "execution_count": 27
        },
        {
          "output_type": "display_data",
          "data": {
            "image/png": "[encoded data removed]",
            "text/plain": [
              "<Figure size 864x360 with 1 Axes>"
            ]
          },
          "metadata": {
            "needs_background": "light"
          }
        }
      ]
    },
    {
      "cell_type": "markdown",
      "metadata": {
        "id": "fyurg0uXqdJ5"
      },
      "source": [
        "As we can see from the graph above, the highest number of reviews is registered at **15:54:53**."
      ]
    },
    {
      "cell_type": "markdown",
      "metadata": {
        "id": "IqFAieSnYgzI"
      },
      "source": [
        "### [RQ3 - b]"
      ]
    },
    {
      "cell_type": "code",
      "metadata": {
        "id": "kS1IIklsPyI-"
      },
      "source": [
        "## Create Datetime_index\n",
        "df3['Datetime'] = pd.to_datetime(df3['timestamp_created'])\n",
        "df3 = df3.set_index('Datetime')"
      ],
      "execution_count": 28,
      "outputs": []
    },
    {
      "cell_type": "code",
      "metadata": {
        "id": "y-M936HkPyF6"
      },
      "source": [
        "## Create a function\n",
        "def fun(l):\n",
        "    plot = []\n",
        "    res = []\n",
        "    for elem in range(0,len(l),2):\n",
        "        iniz = l[elem]\n",
        "        fin = l[elem+1]\n",
        "        plot.append(df3.between_time(iniz,fin).count())\n",
        "    for elem in plot:\n",
        "        res.append(elem['review_id'])\n",
        "    names = ['0: 06-10:59','1: 11-13:59','2: 14:00-16:59','3: 17-19:59','4: 20-23:59','5: 00-02:59','6: 03-05:59']\n",
        "    plt.plot(names, res)\n",
        "    plt.show()\n",
        "    return "
      ],
      "execution_count": 29,
      "outputs": []
    },
    {
      "cell_type": "markdown",
      "metadata": {
        "id": "zgYtkMugYnTs"
      },
      "source": [
        "### [RQ3 - c]"
      ]
    },
    {
      "cell_type": "code",
      "metadata": {
        "id": "qfhn6S6OPyEG",
        "colab": {
          "base_uri": "https://localhost:8080/",
          "height": 331
        },
        "outputId": "9d91464b-8bb5-4839-cedb-e28fcd00cdf0"
      },
      "source": [
        "## Plot the number of reviews between the following time intervals.\n",
        "plt.rcParams['figure.figsize'] = (12, 5)\n",
        "times = ['06:00:00', '10:59:59','11:00:00', '13:59:59','14:00:00', '16:59:59','17:00:00', '19:59:59','20:00:00', '23:59:59','00:00:00', '02:59:59','03:00:00', '05:59:59']\n",
        "fun(times)"
      ],
      "execution_count": 30,
      "outputs": [
        {
          "output_type": "display_data",
          "data": {
            "image/png": "[encoded data removed]",
            "text/plain": [
              "<Figure size 864x360 with 1 Axes>"
            ]
          },
          "metadata": {
            "needs_background": "light"
          }
        }
      ]
    },
    {
      "cell_type": "markdown",
      "metadata": {
        "id": "iGwQoDkCtnIk"
      },
      "source": [
        "As you can see from the graph that shows the **curve of the number of reviews for certain times**, the time slot where the **most reviews** are recorded is between **06:00** and **10:59:59**, while in the next phase reaches 13:59:59 the curve suffers a decrease, then climb up between 14 and 16:59:59 and stay almost constant until 19:59:59.\n",
        "Finally, the second peak of the curve is recorded between 20:00 and 23:59 and then reach the **minimum between 03 and 05:59**."
      ]
    },
    {
      "cell_type": "markdown",
      "metadata": {
        "id": "Yvi_lxH-Yra3"
      },
      "source": [
        "## [RQ4]"
      ]
    },
    {
      "cell_type": "markdown",
      "metadata": {
        "id": "fx-F47t8YtCy"
      },
      "source": [
        "As Steam is a worldwide platform, the reviews can be done in many languages. Let's extract some information about it.\n",
        "\n",
        "* What are the top 3 languages used to review applications?\n",
        "* Create a function that receives as parameters both the name of a data set and a list of languages’ names and returns a data frame filtered only with the reviews written in the provided languages.\n",
        "* Use the function created in the previous literal to find what percentage of these reviews (associated with the top 3 languages) were voted as funny?\n",
        "* Use the function created in the literal “a” to find what percentage of these reviews (associated with the top 3 languages) were voted as helpful?"
      ]
    },
    {
      "cell_type": "markdown",
      "metadata": {
        "id": "0kjKJ3A3YzvW"
      },
      "source": [
        "### [RQ4 - a]"
      ]
    },
    {
      "cell_type": "code",
      "metadata": {
        "id": "zcm2blYXY1Xw",
        "colab": {
          "base_uri": "https://localhost:8080/"
        },
        "outputId": "66918135-f3e3-4058-d21c-9969714f5dfd"
      },
      "source": [
        "## Top 3 languages\n",
        "print('Top 3 languages used: \\n')\n",
        "lng = df['language'].value_counts()[:3].index.tolist()\n",
        "lng"
      ],
      "execution_count": 31,
      "outputs": [
        {
          "output_type": "stream",
          "name": "stdout",
          "text": [
            "Top 3 languages used: \n",
            "\n"
          ]
        },
        {
          "output_type": "execute_result",
          "data": {
            "text/plain": [
              "['english', 'schinese', 'russian']"
            ]
          },
          "metadata": {},
          "execution_count": 31
        }
      ]
    },
    {
      "cell_type": "markdown",
      "metadata": {
        "id": "e93zt9CIY3TM"
      },
      "source": [
        "### [RQ4 - b]"
      ]
    },
    {
      "cell_type": "code",
      "metadata": {
        "id": "NDuBmNEzY72W"
      },
      "source": [
        "## Create a function\n",
        "def fun(dataframe, lista):\n",
        "    return df[df['language'].isin(lista)]"
      ],
      "execution_count": 32,
      "outputs": []
    },
    {
      "cell_type": "code",
      "metadata": {
        "id": "GoWO4vu56TgD"
      },
      "source": [
        "## Extract the subset of the dataframe (of top 3 languages).\n",
        "df_f = fun(df, lng)"
      ],
      "execution_count": 33,
      "outputs": []
    },
    {
      "cell_type": "markdown",
      "metadata": {
        "id": "VrOwKH30ZYxU"
      },
      "source": [
        "### [RQ4 - c]"
      ]
    },
    {
      "cell_type": "code",
      "metadata": {
        "id": "RTsKz91J8daD",
        "colab": {
          "base_uri": "https://localhost:8080/"
        },
        "outputId": "1091fa2a-cdb2-468e-ca1e-a601af40127a"
      },
      "source": [
        "## Percentage of these reviews (associated with the top 3 languages) were voted as funny.\n",
        "print('Percentage of reviews written in the first 3 languages and voted as funny:')\n",
        "print('{:.2f}%'.format(100 * (len(df_f[df_f['votes_funny'] > 0])) / len(df_f)))"
      ],
      "execution_count": 34,
      "outputs": [
        {
          "output_type": "stream",
          "name": "stdout",
          "text": [
            "Percentage of reviews written in the first 3 languages and voted as funny:\n",
            "12.21%\n"
          ]
        }
      ]
    },
    {
      "cell_type": "markdown",
      "metadata": {
        "id": "z03VcGX0ZaKB"
      },
      "source": [
        "### [RQ4 - d]"
      ]
    },
    {
      "cell_type": "code",
      "metadata": {
        "id": "LvOZypNi9t6b",
        "colab": {
          "base_uri": "https://localhost:8080/"
        },
        "outputId": "98275852-c0ba-4e07-f5fe-6277d01601a6"
      },
      "source": [
        "## Percentage of these reviews (associated with the top 3 languages) were voted as helpful.\n",
        "print('Percentage of reviews written in the first 3 languages and voted as helpful:')\n",
        "print('{:.2f}%'.format(100 * (len(df_f[df_f['votes_helpful'] > 0])) / len(df_f)))"
      ],
      "execution_count": 35,
      "outputs": [
        {
          "output_type": "stream",
          "name": "stdout",
          "text": [
            "Percentage of reviews written in the first 3 languages and voted as helpful:\n",
            "29.16%\n"
          ]
        }
      ]
    },
    {
      "cell_type": "markdown",
      "metadata": {
        "id": "7zkE1hWiZg8T"
      },
      "source": [
        "## [RQ5]"
      ]
    },
    {
      "cell_type": "markdown",
      "metadata": {
        "id": "519FLTHEZiGW"
      },
      "source": [
        "The reviews' authors are users from the game that provide their opinion on it. Now you can check how often they make reviews.\n",
        "\n",
        "* Plot the top 10 most popular reviewers and the number of reviews.\n",
        "* What applications did the most popular author review?\n",
        "* How many applications did he purchase, and how many did he get as free?Provide the number (count) and the percentage.\n",
        "* How many of the applications he purchased reviewed positively, and how many negatively? How about the applications he received for free?"
      ]
    },
    {
      "cell_type": "markdown",
      "metadata": {
        "id": "xhy59uF607z3"
      },
      "source": [
        "### [RQ5 - a]"
      ]
    },
    {
      "cell_type": "code",
      "metadata": {
        "id": "8o-SVmwnZl7A",
        "colab": {
          "base_uri": "https://localhost:8080/",
          "height": 367
        },
        "outputId": "911deca5-91d6-40f9-9954-3c5a3818bdfa"
      },
      "source": [
        "## Plot the top 10 most popular reviewers and the number of reviews.\n",
        "df.groupby(['author.steamid']).size().sort_values(ascending = True).tail(10).plot.barh(figsize = (12, 5))\n",
        "plt.title('Top 10 most popular reviewers by number of reviews.')\n",
        "plt.xlabel('Number of Reviews')\n",
        "plt.ylabel('Author ID')"
      ],
      "execution_count": 36,
      "outputs": [
        {
          "output_type": "execute_result",
          "data": {
            "text/plain": [
              "Text(0, 0.5, 'Author ID')"
            ]
          },
          "metadata": {},
          "execution_count": 36
        },
        {
          "output_type": "display_data",
          "data": {
            "image/png": "[encoded data removed]",
            "text/plain": [
              "<Figure size 864x360 with 1 Axes>"
            ]
          },
          "metadata": {
            "needs_background": "light"
          }
        }
      ]
    },
    {
      "cell_type": "markdown",
      "metadata": {
        "id": "OO4Zd0kP0-rA"
      },
      "source": [
        "### [RQ5 - b]"
      ]
    },
    {
      "cell_type": "code",
      "metadata": {
        "id": "nuGaPkPxI4Md",
        "colab": {
          "base_uri": "https://localhost:8080/"
        },
        "outputId": "897b82c4-4d7f-4db6-d0e3-d6a409647bb9"
      },
      "source": [
        "## What applications did the most popular author review?\n",
        "most_reviews = df.loc[df['author.steamid'] == 76561198062813911]\n",
        "games_reviewd = most_reviews['app_name']\n",
        "games_reviewd"
      ],
      "execution_count": 37,
      "outputs": [
        {
          "output_type": "execute_result",
          "data": {
            "text/plain": [
              "512675                               Half-Life\n",
              "539037                  Counter-Strike: Source\n",
              "658130                Half-Life 2: Episode Two\n",
              "849477                                Portal 2\n",
              "1549581                            Garry's Mod\n",
              "1728583             Sid Meier's Civilization V\n",
              "2141495                       Dead by Daylight\n",
              "2252905            Sid Meier's Civilization VI\n",
              "2392987                             Subnautica\n",
              "2571139                       Human: Fall Flat\n",
              "2646056                               Banished\n",
              "2682381                                Celeste\n",
              "2708381     Getting Over It with Bennett Foddy\n",
              "2743294                          A Hat in Time\n",
              "2913786                             The Forest\n",
              "3289384                            Axiom Verge\n",
              "3393685          The Binding of Isaac: Rebirth\n",
              "3470835                            To the Moon\n",
              "3474508                            Cave Story+\n",
              "3481912                            Titan Souls\n",
              "3510504                         Super Meat Boy\n",
              "3527008        Don't Escape: 4 Days to Survive\n",
              "3528306                     Volgarr the Viking\n",
              "3588070                      Enter the Gungeon\n",
              "3602924                     Salt and Sanctuary\n",
              "3717014                          Hollow Knight\n",
              "3745867                        The End Is Nigh\n",
              "3807274                               Factorio\n",
              "3913822                               RimWorld\n",
              "3971181                  Insurgency: Sandstorm\n",
              "                           ...                \n",
              "20628103      Ni no Kuni™ II: Revenant Kingdom\n",
              "20678367                        Railway Empire\n",
              "20711159                      Rise of Industry\n",
              "20795919           Devil May Cry HD Collection\n",
              "20800876                 Heroes of Hammerwatch\n",
              "20805414                       Ghost of a Tale\n",
              "20824792                      Ancestors Legacy\n",
              "20831338                       FAR: Lone Sails\n",
              "20867379        Totally Accurate Battlegrounds\n",
              "20890999                                Vampyr\n",
              "20921224                              Yakuza 0\n",
              "20948483                       Thief Simulator\n",
              "20955607                        Darksiders III\n",
              "20972603        Mutant Year Zero: Road to Eden\n",
              "20986996                          Just Cause 4\n",
              "21038949                        Planet Coaster\n",
              "21058569                Nioh: Complete Edition\n",
              "21109691                 Europa Universalis IV\n",
              "21225671                          Just Cause 3\n",
              "21284625             Resident Evil 7 Biohazard\n",
              "21339671                          Urban Empire\n",
              "21353991                        Youtubers Life\n",
              "21370747                    Night in the Woods\n",
              "21404507                             Northgard\n",
              "21446171                        Sniper Elite 4\n",
              "21578107                         Hollow Knight\n",
              "21624890                         Day of Infamy\n",
              "21651066                            SimAirport\n",
              "21656340                         Dead Rising 4\n",
              "21672218              Styx: Shards of Darkness\n",
              "Name: app_name, Length: 149, dtype: object"
            ]
          },
          "metadata": {},
          "execution_count": 37
        }
      ]
    },
    {
      "cell_type": "markdown",
      "metadata": {
        "id": "3JU0F3uz1E6V"
      },
      "source": [
        "### [RQ5 - c]"
      ]
    },
    {
      "cell_type": "code",
      "metadata": {
        "id": "13ZrLXWoJBNO"
      },
      "source": [
        "## How many of the applications he purchased reviewed positively, and how many negatively? How about the applications he received for free?\n",
        "free = most_reviews.loc[most_reviews['received_for_free'] == True]"
      ],
      "execution_count": 38,
      "outputs": []
    },
    {
      "cell_type": "code",
      "metadata": {
        "id": "WXafVZIUI729",
        "colab": {
          "base_uri": "https://localhost:8080/"
        },
        "outputId": "0fde03ec-a4af-4144-b19a-4c872b8c0ebf"
      },
      "source": [
        "## How many applications did he purchase, and how many did he get as free? Provide the number (count) and the percentage.\n",
        "bought = most_reviews.loc[most_reviews['received_for_free'] == False]\n",
        "print('Applications Purchase:\\n', bought.shape[0], '\\n', 'Applications Free:\\n', free.shape[0], '\\n', 'Percentage Applications Purchase on total review:\\n', round(bought.shape[0]/most_reviews.shape[0], 3))"
      ],
      "execution_count": 39,
      "outputs": [
        {
          "output_type": "stream",
          "name": "stdout",
          "text": [
            "Applications Purchase:\n",
            " 145 \n",
            " Applications Free:\n",
            " 4 \n",
            " Percentage Applications Purchase on total review:\n",
            " 0.973\n"
          ]
        }
      ]
    },
    {
      "cell_type": "markdown",
      "metadata": {
        "id": "JwBEQEJ31HE-"
      },
      "source": [
        "### [RQ5 - d]"
      ]
    },
    {
      "cell_type": "code",
      "metadata": {
        "id": "VpeVo72TmTFt",
        "colab": {
          "base_uri": "https://localhost:8080/"
        },
        "outputId": "1b428028-6f53-4870-8df9-63697b80a732"
      },
      "source": [
        "## How many of the applications he purchased reviewed positively, and how many negatively? How about the applications he received for free?\n",
        "pp = bought[bought['recommended'] == True].shape[0]\n",
        "print('Applications that he purchased reviewed positively: \\n', pp, )\n",
        "'\\n'\n",
        "np = bought[bought['recommended'] == False].shape[0]\n",
        "print('Applications that he purchased reviewed negatively: \\n', np)\n",
        "'\\n'\n",
        "fp = free[free['recommended'] == True].shape[0]\n",
        "print('Applications that he received for free reviewed positively: \\n', fp)\n",
        "'\\n'\n",
        "fn = free[free['recommended'] == False].shape[0]\n",
        "print('Applications that he received for free reviewed negatively: \\n', fn)\n",
        "\n",
        "print(\"On the applications that he bought the % of positives is: \", round(pp / (pp + np) * 100,3), \"%\", \"While for the free2play apps the % is: \", fp / (fp + fn) * 100,\"%\")"
      ],
      "execution_count": 40,
      "outputs": [
        {
          "output_type": "stream",
          "name": "stdout",
          "text": [
            "Applications that he purchased reviewed positively: \n",
            " 142\n",
            "Applications that he purchased reviewed negatively: \n",
            " 3\n",
            "Applications that he received for free reviewed positively: \n",
            " 4\n",
            "Applications that he received for free reviewed negatively: \n",
            " 0\n",
            "On the applications that he bought the % of positives is:  97.931 % While for the free2play apps the % is:  100.0 %\n"
          ]
        }
      ]
    },
    {
      "cell_type": "markdown",
      "metadata": {
        "id": "tKdJq7VOZqIJ"
      },
      "source": [
        "## [RQ6]"
      ]
    },
    {
      "cell_type": "markdown",
      "metadata": {
        "id": "EOQmSVVkZk_-"
      },
      "source": [
        "It's time to get information from the updates that a user does to his reviews.\n",
        "\n",
        "* What is the average time (days and minutes) a user lets pass before he updates a review?\n",
        "* Plot the top 3 authors that usually update their reviews."
      ]
    },
    {
      "cell_type": "markdown",
      "metadata": {
        "id": "jcyq6Luh1xgG"
      },
      "source": [
        "### [RQ6 - a]"
      ]
    },
    {
      "cell_type": "code",
      "metadata": {
        "id": "Eg4FVNh17Zlq"
      },
      "source": [
        "## We consider only the observations related to the columns of interest and apply the parsing function.\n",
        "df6 = df.filter(['timestamp_created', 'timestamp_updated', 'author.steamid'])\n",
        "df6.timestamp_created = dateparse(df6.timestamp_created);\n",
        "df6.timestamp_updated = dateparse(df6.timestamp_updated);"
      ],
      "execution_count": 41,
      "outputs": []
    },
    {
      "cell_type": "code",
      "metadata": {
        "id": "cymEyuyN7xuQ",
        "colab": {
          "base_uri": "https://localhost:8080/",
          "height": 203
        },
        "outputId": "e83052ba-d733-433a-9dc9-329e0f5b9428"
      },
      "source": [
        "## We verify the parsing\n",
        "df6.head()"
      ],
      "execution_count": 42,
      "outputs": [
        {
          "output_type": "execute_result",
          "data": {
            "text/html": [
              "<div>\n",
              "<style scoped>\n",
              "    .dataframe tbody tr th:only-of-type {\n",
              "        vertical-align: middle;\n",
              "    }\n",
              "\n",
              "    .dataframe tbody tr th {\n",
              "        vertical-align: top;\n",
              "    }\n",
              "\n",
              "    .dataframe thead th {\n",
              "        text-align: right;\n",
              "    }\n",
              "</style>\n",
              "<table border=\"1\" class=\"dataframe\">\n",
              "  <thead>\n",
              "    <tr style=\"text-align: right;\">\n",
              "      <th></th>\n",
              "      <th>timestamp_created</th>\n",
              "      <th>timestamp_updated</th>\n",
              "      <th>author.steamid</th>\n",
              "    </tr>\n",
              "  </thead>\n",
              "  <tbody>\n",
              "    <tr>\n",
              "      <th>0</th>\n",
              "      <td>2021-01-23 06:00:29</td>\n",
              "      <td>2021-01-23 06:00:29</td>\n",
              "      <td>76561199095369542</td>\n",
              "    </tr>\n",
              "    <tr>\n",
              "      <th>1</th>\n",
              "      <td>2021-01-23 05:50:30</td>\n",
              "      <td>2021-01-23 05:50:30</td>\n",
              "      <td>76561198949504115</td>\n",
              "    </tr>\n",
              "    <tr>\n",
              "      <th>2</th>\n",
              "      <td>2021-01-23 05:46:40</td>\n",
              "      <td>2021-01-23 05:46:40</td>\n",
              "      <td>76561199090098988</td>\n",
              "    </tr>\n",
              "    <tr>\n",
              "      <th>3</th>\n",
              "      <td>2021-01-23 05:32:50</td>\n",
              "      <td>2021-01-23 05:32:50</td>\n",
              "      <td>76561199054755373</td>\n",
              "    </tr>\n",
              "    <tr>\n",
              "      <th>4</th>\n",
              "      <td>2021-01-23 05:23:47</td>\n",
              "      <td>2021-01-23 05:23:47</td>\n",
              "      <td>76561199028326951</td>\n",
              "    </tr>\n",
              "  </tbody>\n",
              "</table>\n",
              "</div>"
            ],
            "text/plain": [
              "    timestamp_created   timestamp_updated     author.steamid\n",
              "0 2021-01-23 06:00:29 2021-01-23 06:00:29  76561199095369542\n",
              "1 2021-01-23 05:50:30 2021-01-23 05:50:30  76561198949504115\n",
              "2 2021-01-23 05:46:40 2021-01-23 05:46:40  76561199090098988\n",
              "3 2021-01-23 05:32:50 2021-01-23 05:32:50  76561199054755373\n",
              "4 2021-01-23 05:23:47 2021-01-23 05:23:47  76561199028326951"
            ]
          },
          "metadata": {},
          "execution_count": 42
        }
      ]
    },
    {
      "cell_type": "markdown",
      "metadata": {
        "id": "CodWkR2P1O5Y"
      },
      "source": [
        "### [RQ6 - b]"
      ]
    },
    {
      "cell_type": "code",
      "metadata": {
        "id": "QbcQGLMU3OAD"
      },
      "source": [
        "## New dataframe used to see who changed the reviews\n",
        "df6 = df6.loc[df6['timestamp_updated'] != df6['timestamp_created']]"
      ],
      "execution_count": 43,
      "outputs": []
    },
    {
      "cell_type": "code",
      "metadata": {
        "id": "kiOiehLo3UT3",
        "colab": {
          "base_uri": "https://localhost:8080/",
          "height": 367
        },
        "outputId": "7728ba58-14ef-4ce4-a9ff-119d7ac82556"
      },
      "source": [
        "## Plot of the 3 authors who have changed their reviews more often\n",
        "df6.groupby(['author.steamid']).size().sort_values(ascending = True).tail(3).plot.barh(figsize = (12, 5))\n",
        "plt.title('Plot top 3 authors that usually update their reviews.')\n",
        "plt.ylabel('Author ID')\n",
        "plt.xlabel('Number of update')"
      ],
      "execution_count": 44,
      "outputs": [
        {
          "output_type": "execute_result",
          "data": {
            "text/plain": [
              "Text(0.5, 0, 'Number of update')"
            ]
          },
          "metadata": {},
          "execution_count": 44
        },
        {
          "output_type": "display_data",
          "data": {
            "image/png": "[encoded data removed]",
            "text/plain": [
              "<Figure size 864x360 with 1 Axes>"
            ]
          },
          "metadata": {
            "needs_background": "light"
          }
        }
      ]
    },
    {
      "cell_type": "code",
      "metadata": {
        "id": "bImKlYp03dwb"
      },
      "source": [
        "## Create a new column 'min_difference' as a difference between 'timestamp_updated' e 'timestamp_created'\n",
        "df6.insert(3, \"min_difference\", df6['timestamp_updated'] - df6['timestamp_created'])"
      ],
      "execution_count": 45,
      "outputs": []
    },
    {
      "cell_type": "code",
      "metadata": {
        "id": "og80y0ZU3fZ2",
        "colab": {
          "base_uri": "https://localhost:8080/"
        },
        "outputId": "b593a4cc-9f06-4cc4-aa6f-63c8e2a923a1"
      },
      "source": [
        "## Average time (days and minutes) a user lets pass before he updates a review\n",
        "df6[\"min_difference\"].mean()"
      ],
      "execution_count": 46,
      "outputs": [
        {
          "output_type": "execute_result",
          "data": {
            "text/plain": [
              "Timedelta('321 days 00:46:24.845181776')"
            ]
          },
          "metadata": {},
          "execution_count": 46
        }
      ]
    },
    {
      "cell_type": "markdown",
      "metadata": {
        "id": "4mRsLrfQZsPj"
      },
      "source": [
        "## [RQ7]"
      ]
    },
    {
      "cell_type": "markdown",
      "metadata": {
        "id": "8BtwLXT7Zuxg"
      },
      "source": [
        "Of course, calculating probabilities is a job that any Data Scientist must know. Let's compute Some interesting figures.\n",
        "\n",
        "* What’s the probability that a review has a Weighted Vote Score equal to or bigger than 0.5?\n",
        "* What’s the probability that a review has at least one vote as funny given that the Weighted Vote Score is bigger than 0.5?\n",
        "* Is the probability that “a review has at least one vote as funny” independent of the “probability that a review has a Weighted Vote Score equal or bigger than 0.5”?"
      ]
    },
    {
      "cell_type": "markdown",
      "metadata": {
        "id": "msFa40Db1UKg"
      },
      "source": [
        "### [RQ7 - a]"
      ]
    },
    {
      "cell_type": "code",
      "metadata": {
        "id": "Y6wfdTs0Degg",
        "colab": {
          "base_uri": "https://localhost:8080/"
        },
        "outputId": "a7c55de0-c020-41aa-f4d9-2d8ef83b8c00"
      },
      "source": [
        "## Probability that a review has a Weighted Vote Score equal to or bigger than 0.5\n",
        "## The probability is calculated as the number of cases where the weighted vote score is equal to or bigger than 0.5 by the total of observations.\n",
        "pr = round(len(df.weighted_vote_score[df.weighted_vote_score >= .5]) / len(df.weighted_vote_score), 3)\n",
        "print('The probability that a review has a Weighted Vote Score equal or bigger than 0.5 is: \\n', pr)"
      ],
      "execution_count": 47,
      "outputs": [
        {
          "output_type": "stream",
          "name": "stdout",
          "text": [
            "The probability that a review has a Weighted Vote Score equal or bigger than 0.5 is: \n",
            " 0.22\n"
          ]
        }
      ]
    },
    {
      "cell_type": "markdown",
      "metadata": {
        "id": "Muaoj9DN1XM4"
      },
      "source": [
        "### [RQ7 - b]"
      ]
    },
    {
      "cell_type": "code",
      "metadata": {
        "id": "hOpTx4o3X-6Q"
      },
      "source": [
        "## Probability that a review has at least one vote as funny given that the Weighted Vote Score is bigger than 0.5\n",
        "## We extract observations that exceed the condition.\n",
        "w = df['weighted_vote_score'] > .5\n",
        "v = df['votes_funny'] >= 1"
      ],
      "execution_count": 48,
      "outputs": []
    },
    {
      "cell_type": "code",
      "metadata": {
        "id": "euhdC9ZkZxYG"
      },
      "source": [
        "## We calculate the individual probabilities for the two events.\n",
        "pr_w = round(len(df.weighted_vote_score[df.weighted_vote_score > .5]) / len(df.weighted_vote_score), 3)\n",
        "pr_v = round(len(df.votes_funny[df.votes_funny >= 1]) / len(df.votes_funny), 3)"
      ],
      "execution_count": 49,
      "outputs": []
    },
    {
      "cell_type": "code",
      "metadata": {
        "id": "7JuXo8vyamcC",
        "colab": {
          "base_uri": "https://localhost:8080/"
        },
        "outputId": "5a23565f-53c9-4aa0-8c97-3fb1d1d4c4af"
      },
      "source": [
        "## Intersection of events and calculation of the conditional probability.\n",
        "res_intersect = w & v\n",
        "res = df[res_intersect]\n",
        "prob_intersect = res.shape[0] / df.shape[0]\n",
        "res_prob = prob_intersect / pr_w\n",
        "print('The probability that a review has at least one vote as funny given that the Weighted Vote Score is bigger than 0.5 is: \\n', round(res_prob, 3))"
      ],
      "execution_count": 50,
      "outputs": [
        {
          "output_type": "stream",
          "name": "stdout",
          "text": [
            "The probability that a review has at least one vote as funny given that the Weighted Vote Score is bigger than 0.5 is: \n",
            " 0.249\n"
          ]
        }
      ]
    },
    {
      "cell_type": "markdown",
      "metadata": {
        "id": "bI4w1on71azk"
      },
      "source": [
        "### [RQ7 - c]"
      ]
    },
    {
      "cell_type": "code",
      "metadata": {
        "id": "drF7TTKDX9lX",
        "colab": {
          "base_uri": "https://localhost:8080/"
        },
        "outputId": "729e2ec6-e74a-4e90-b8cb-e71e2f8ba7e7"
      },
      "source": [
        "## Independent Events\n",
        "## Two events are independent if the realization of one does not affect the probability distribution of the other\n",
        "s = df['weighted_vote_score'] >= .5\n",
        "res_intersect = s & v\n",
        "res = df[res_intersect]\n",
        "prob_intersect = res.shape[0] / df.shape[0]\n",
        "res_ind = prob_intersect / pr_v\n",
        "if res_ind == pr_v:\n",
        "  print('The two events are independent.')\n",
        "else:\n",
        "  print('The two events are not independent.')"
      ],
      "execution_count": 51,
      "outputs": [
        {
          "output_type": "stream",
          "name": "stdout",
          "text": [
            "The two events are not independent.\n"
          ]
        }
      ]
    },
    {
      "cell_type": "markdown",
      "metadata": {
        "id": "k3t3LbFudJQi"
      },
      "source": [
        "## [RQ8]"
      ]
    },
    {
      "cell_type": "markdown",
      "metadata": {
        "id": "pwbgqEsIdK9U"
      },
      "source": [
        "Every decision you take in a data-based environment should be reinforced with charts, statistical tests and analysis methods to check if a hypothesis is correct or not.\n",
        "\n",
        "* Is there a significant difference in the Weighted Vote Score of reviews made in Chinese vs the ones made in Russian? Use an appropriate statistical test or technique and support your choice.\n",
        "* Can you find any significant relationship between the time that a user lets pass before he updates the review and the Weighted Vote Score? Use an appropriate statistical test or technique and support your choice.\n",
        "* Is there any change in the relationship of the variables mentioned in the previous literal if you include whether an application is recommended or not in the review? Use an appropriate statistical test or technique and support your choice.\n",
        "* What are histograms, bar plots, scatterplots and pie charts used for?\n",
        "* What insights can you extract from a Box Plot?"
      ]
    },
    {
      "cell_type": "markdown",
      "metadata": {
        "id": "Fhbgu1ouxoQq"
      },
      "source": [
        "### [RQ8 - a]"
      ]
    },
    {
      "cell_type": "markdown",
      "metadata": {
        "id": "244s-LfOFhqN"
      },
      "source": [
        "To check if there is a significant difference between the weighted score of reviews made in Chinese and those made in Russian, all comments related to the columns of the language and weighted vote are first selected; especially in order not to lose information from the data, are considered for reviews written in Chinese language, both reviews written in simplified Chinese and in traditional Chinese.\n",
        "Then the idea is to apply a statistical test, in particular a **test-t**, on the average of two different and independent populations and then evaluate the p-value (*the probability of obtaining test results at least as extreme as the results actually observed, under the assumption that the null hypothesis is correct*) associated with it. The test can be **applied to independent data values**, randomly sampled **from two normal population**s, where the two **independent groups have equal variances**.\n",
        "For this reason, we begin by checking the hypothesis of equal variance between the two populations."
      ]
    },
    {
      "cell_type": "code",
      "metadata": {
        "id": "Qqa75mz8g8Nr"
      },
      "source": [
        "## We consider only the observations related to the columns of interest. \n",
        "df2 = df.filter(['language', 'weighted_vote_score'])\n",
        "\n",
        "## We consider the observations written in Chinese and Russian.\n",
        "x1 = df2[(df2['language'] == 'schinese') | (df2['language'] == 'tchinese')]\n",
        "x2 = df2[df2['language'] == 'russian']"
      ],
      "execution_count": 52,
      "outputs": []
    },
    {
      "cell_type": "code",
      "metadata": {
        "id": "MVRYJLzdGBrJ",
        "colab": {
          "base_uri": "https://localhost:8080/"
        },
        "outputId": "b311f85c-00f2-4138-bc5b-f83328c03009"
      },
      "source": [
        "## Checking the hypotesis of equal variance\n",
        "var_x1 = x1.weighted_vote_score.var()\n",
        "var_x2 = x2.weighted_vote_score.var()\n",
        "print(\"Variance of Chinese group: \\n\", round(var_x1, 3))\n",
        "print(\"Variance of Russian group: \\n\", round(var_x2, 3))"
      ],
      "execution_count": 53,
      "outputs": [
        {
          "output_type": "stream",
          "name": "stdout",
          "text": [
            "Variance of Chinese group: \n",
            " 0.057\n",
            "Variance of Russian group: \n",
            " 0.066\n"
          ]
        }
      ]
    },
    {
      "cell_type": "markdown",
      "metadata": {
        "id": "JW2J6rc-GyKi"
      },
      "source": [
        "The difference between the variances of the two groups is minimal, indicating that the variability between the values of two groups is almost the same.\n",
        "However, the most important assumption to be met in order to apply a test-t is the normal distribution. The normality of the distribution can be verified with graphical methods (Histogram - QQplot) and with statistical tests."
      ]
    },
    {
      "cell_type": "code",
      "metadata": {
        "id": "gilMYxHBiiWc",
        "colab": {
          "base_uri": "https://localhost:8080/",
          "height": 406
        },
        "outputId": "6ad1b875-7a46-44c3-9fec-87c70ea557d2"
      },
      "source": [
        "## Check Normalility - Histogram Plot\n",
        "plt.rcParams['figure.figsize'] = (12, 5)\n",
        "sns.distplot(x1.weighted_vote_score, hist = True, kde = True, \n",
        "             bins = int(180/5), color = 'darkblue', \n",
        "             hist_kws = {'edgecolor':'black'},)"
      ],
      "execution_count": 54,
      "outputs": [
        {
          "output_type": "stream",
          "name": "stderr",
          "text": [
            "/usr/local/lib/python3.7/dist-packages/seaborn/distributions.py:2619: FutureWarning: `distplot` is a deprecated function and will be removed in a future version. Please adapt your code to use either `displot` (a figure-level function with similar flexibility) or `histplot` (an axes-level function for histograms).\n",
            "  warnings.warn(msg, FutureWarning)\n"
          ]
        },
        {
          "output_type": "execute_result",
          "data": {
            "text/plain": [
              "<matplotlib.axes._subplots.AxesSubplot at 0x7f63587ef190>"
            ]
          },
          "metadata": {},
          "execution_count": 54
        },
        {
          "output_type": "display_data",
          "data": {
            "image/png": "[encoded data removed]",
            "text/plain": [
              "<Figure size 864x360 with 1 Axes>"
            ]
          },
          "metadata": {
            "needs_background": "light"
          }
        }
      ]
    },
    {
      "cell_type": "markdown",
      "metadata": {
        "id": "js3mEVkqHW4M"
      },
      "source": [
        "From this graph we can see how the distribution is very far from the Gaussian one and how the values are discretized on the 0. Looking at the qqplot the result does not change."
      ]
    },
    {
      "cell_type": "code",
      "metadata": {
        "id": "astrZicMleVx",
        "colab": {
          "base_uri": "https://localhost:8080/",
          "height": 334
        },
        "outputId": "6dc36e57-70c2-443a-fab6-0d8fd619b953"
      },
      "source": [
        "## Check Normality - Quantile Plot\n",
        "qqplot(x1.weighted_vote_score, line = 's')\n",
        "plt.show()"
      ],
      "execution_count": 55,
      "outputs": [
        {
          "output_type": "display_data",
          "data": {
            "image/png": "[encoded data removed]",
            "text/plain": [
              "<Figure size 864x360 with 1 Axes>"
            ]
          },
          "metadata": {
            "needs_background": "light"
          }
        }
      ]
    },
    {
      "cell_type": "markdown",
      "metadata": {
        "id": "eF_R7tcPIFTD"
      },
      "source": [
        "A final step that leaves no room for interpretation are the statistical tests of **Shapiro-Wilk** and **Jarque-Bera**."
      ]
    },
    {
      "cell_type": "code",
      "metadata": {
        "id": "EQXNu20MIc22",
        "colab": {
          "base_uri": "https://localhost:8080/"
        },
        "outputId": "c1496d66-79e7-4dbb-f45e-d3209dc1b018"
      },
      "source": [
        "## Shapiro-Wilk\n",
        "stat, p = shapiro(x1.weighted_vote_score)\n",
        "print('Statistics = %.3f, p-value = %.3f' % (stat, p))\n",
        "## Intepret\n",
        "alpha = 0.05\n",
        "if p > alpha:\n",
        "\tprint('Sample looks Gaussian (fail to reject H0)')\n",
        "else:\n",
        "\tprint('Sample does not look Gaussian (reject H0)')\n",
        "\n",
        "## Jarque-Bera\n",
        "jb = jarque_bera(x1.weighted_vote_score)\n",
        "stat, p = round(jb[0]), jb[1]\n",
        "print('Statistics = %.3f, p-value = %.3f' % (stat, p))\n",
        "## Intepret\n",
        "alpha = 0.05\n",
        "if p > alpha:\n",
        "  print('Sample looks Gaussian (fail to reject H0)')\n",
        "else:\n",
        "\tprint('Sample does not look Gaussian (reject H0)')\n"
      ],
      "execution_count": 56,
      "outputs": [
        {
          "output_type": "stream",
          "name": "stderr",
          "text": [
            "/usr/local/lib/python3.7/dist-packages/scipy/stats/morestats.py:1676: UserWarning: p-value may not be accurate for N > 5000.\n",
            "  warnings.warn(\"p-value may not be accurate for N > 5000.\")\n"
          ]
        },
        {
          "output_type": "stream",
          "name": "stdout",
          "text": [
            "Statistics = 0.602, p-value = 0.000\n",
            "Sample does not look Gaussian (reject H0)\n",
            "Statistics = 869595.000, p-value = 0.000\n",
            "Sample does not look Gaussian (reject H0)\n"
          ]
        }
      ]
    },
    {
      "cell_type": "markdown",
      "metadata": {
        "id": "aNR3F8h3LTPE"
      },
      "source": [
        "From both tests it emerges the **non-gaussianity** of the distribution and therefore the impossibility to apply the test-t.\n",
        "For this reason, a **non-parametric test is performed**, namely the **Mann-Whitney test**. The result tells us that *the null hypothesis was rejected and your test is statistically significant*; the differences between your groups are significant and and populations are distinct."
      ]
    },
    {
      "cell_type": "code",
      "metadata": {
        "id": "Y3v_ldNRwOPw",
        "colab": {
          "base_uri": "https://localhost:8080/"
        },
        "outputId": "53f0109e-ef0b-4485-9b46-b06041ce9217"
      },
      "source": [
        "## Test Mann-Whitney\n",
        "res = mannwhitneyu(x1.weighted_vote_score, x2.weighted_vote_score)\n",
        "print('Statistics = %.3f, p-value = %.3f' % (round(res[0],3), res[1]))\n",
        "## Intepret\n",
        "alpha = 0.05\n",
        "if p > alpha:\n",
        "  print('The difference is not due to random sampling (fail to reject H0)')\n",
        "else:\n",
        "\tprint('The difference is due to random sampling (reject H0)')"
      ],
      "execution_count": 57,
      "outputs": [
        {
          "output_type": "stream",
          "name": "stdout",
          "text": [
            "Statistics = 4084405689413.500, p-value = 0.000\n",
            "The difference is due to random sampling (reject H0)\n"
          ]
        }
      ]
    },
    {
      "cell_type": "markdown",
      "metadata": {
        "id": "upbBGDIgxqmA"
      },
      "source": [
        "### [RQ8 - b]"
      ]
    },
    {
      "cell_type": "markdown",
      "metadata": {
        "id": "XfoMt7MfNzjq"
      },
      "source": [
        "To find a meaningful relationship between the time a user passes before updating the review and the weighted score, it is possible to study the link that may exist, both from a graphical and computational point of view.\n",
        "First, only the variables of interest are selected and then create a new variable **Difftime** that indicates the time elapsed between the last written review and the last update Then we study the link of this new variable with the score.\n"
      ]
    },
    {
      "cell_type": "code",
      "metadata": {
        "id": "c3HFO03OxuaV"
      },
      "source": [
        "## We consider only the observations related to the columns of interest. \n",
        "df3 = df.filter(['timestamp_created', 'timestamp_updated', 'weighted_vote_score'])\n",
        "\n",
        "## Create a new column\n",
        "df3[\"DiffTime\"] = df3.timestamp_updated - df3.timestamp_created\n",
        "\n",
        "## Drop Columns\n",
        "df3 = df3.drop(['timestamp_created'], axis = 1)\n",
        "df3 = df3.drop(['timestamp_updated'], axis = 1)"
      ],
      "execution_count": 58,
      "outputs": []
    },
    {
      "cell_type": "markdown",
      "metadata": {
        "id": "1r0o9oNGPXNI"
      },
      "source": [
        "The first study can be done from **covariance**, a statistical index that measures how much two numerical variables are related to each other.\n",
        "* If **cov(X, Y) = 0**, X and Y are **uncorrupted**; there is no linear link between them.\n",
        "* If **cov(X, Y) > 0**, X and Y are positively **correlated**; positive (or negative) variations of one variable correspond, on average, to positive (negative) variations of the other variable.\n",
        "* If **cov(X, Y) < 0**, X and Y are negatively **correlated**; positive variations of one variable correspond, on average, to negative variations of the other variable, and vice versa. "
      ]
    },
    {
      "cell_type": "code",
      "metadata": {
        "id": "3w4fFRtxQiMT",
        "colab": {
          "base_uri": "https://localhost:8080/",
          "height": 110
        },
        "outputId": "108596d3-d522-4e50-b839-242db5c3a24d"
      },
      "source": [
        "pd.set_option('display.float_format', lambda x: '%.3f' % x)\n",
        "df3.cov()"
      ],
      "execution_count": 59,
      "outputs": [
        {
          "output_type": "execute_result",
          "data": {
            "text/html": [
              "<div>\n",
              "<style scoped>\n",
              "    .dataframe tbody tr th:only-of-type {\n",
              "        vertical-align: middle;\n",
              "    }\n",
              "\n",
              "    .dataframe tbody tr th {\n",
              "        vertical-align: top;\n",
              "    }\n",
              "\n",
              "    .dataframe thead th {\n",
              "        text-align: right;\n",
              "    }\n",
              "</style>\n",
              "<table border=\"1\" class=\"dataframe\">\n",
              "  <thead>\n",
              "    <tr style=\"text-align: right;\">\n",
              "      <th></th>\n",
              "      <th>weighted_vote_score</th>\n",
              "      <th>DiffTime</th>\n",
              "    </tr>\n",
              "  </thead>\n",
              "  <tbody>\n",
              "    <tr>\n",
              "      <th>weighted_vote_score</th>\n",
              "      <td>0.059</td>\n",
              "      <td>271332.234</td>\n",
              "    </tr>\n",
              "    <tr>\n",
              "      <th>DiffTime</th>\n",
              "      <td>271332.234</td>\n",
              "      <td>239401895853633.531</td>\n",
              "    </tr>\n",
              "  </tbody>\n",
              "</table>\n",
              "</div>"
            ],
            "text/plain": [
              "                     weighted_vote_score            DiffTime\n",
              "weighted_vote_score                0.059          271332.234\n",
              "DiffTime                      271332.234 239401895853633.531"
            ]
          },
          "metadata": {},
          "execution_count": 59
        }
      ]
    },
    {
      "cell_type": "markdown",
      "metadata": {
        "id": "gBp8rcQhTQQX"
      },
      "source": [
        "The covariance between the two variables of interest is positive.\n",
        "However, covariance makes it possible to measure the presence of a linear bond, but not the strength of that bond.\n",
        "For this the calculation of the correlation coefficient is introduced.\n",
        "The correlation measures the linear link (if any) between two numerical variables.\n",
        "The correlation quantifies this association, often as a measure between -1 to 1 values for a perfectly negative correlation and a perfectly positive correlation. The calculated correlation is called \"correlation coefficient\". \n",
        "In cases where the distribution of variables is Gaussian, the correlation of Bravais-Pearson can be calculated, while in this case it is necessary to calculate a **non-parametric correlation or that of Spearman**.\n"
      ]
    },
    {
      "cell_type": "code",
      "metadata": {
        "id": "pHFELCs8R8RH",
        "colab": {
          "base_uri": "https://localhost:8080/"
        },
        "outputId": "ed9219fc-6c73-4154-d7d2-abf87792e507"
      },
      "source": [
        "## Spearman Correlation\n",
        "coef, p = spearmanr(df3.DiffTime, df3.weighted_vote_score)\n",
        "print('Spearmans correlation coefficient: %.3f' % coef)\n",
        "## Interpret\n",
        "alpha = 0.05\n",
        "if p > alpha:\n",
        "\tprint('Samples are correlated (fail to reject H0) p-value =%.3f' % p)\n",
        "else:\n",
        "\tprint('Samples are uncorrelated (reject H0) p-value = %.3f' % p)"
      ],
      "execution_count": 60,
      "outputs": [
        {
          "output_type": "stream",
          "name": "stdout",
          "text": [
            "Spearmans correlation coefficient: 0.144\n",
            "Samples are uncorrelated (reject H0) p-value = 0.000\n"
          ]
        }
      ]
    },
    {
      "cell_type": "markdown",
      "metadata": {
        "id": "oF44mzIBTr1c"
      },
      "source": [
        "The statistical test shows a strong positive correlation with a value of 0,1. The p-value is close to zero, which means that the probability of looking at the data since the samples are unrelated is very unlikely (for example 95% confidence) and that we can reject the null hypothesis that the samples are related.\n"
      ]
    },
    {
      "cell_type": "code",
      "metadata": {
        "id": "ib3452We0rZV",
        "colab": {
          "base_uri": "https://localhost:8080/",
          "height": 366
        },
        "outputId": "2b0ae208-a5a7-4c3b-8d22-64037f3b1030"
      },
      "source": [
        "## Scatterplot\n",
        "plt.scatter(df3.DiffTime, df3.weighted_vote_score)\n",
        "plt.title('DiffTime Vs. Weighted Vote Score')\n"
      ],
      "execution_count": 61,
      "outputs": [
        {
          "output_type": "execute_result",
          "data": {
            "text/plain": [
              "Text(0.5, 1.0, 'DiffTime Vs. Weighted Vote Score')"
            ]
          },
          "metadata": {},
          "execution_count": 61
        },
        {
          "output_type": "display_data",
          "data": {
            "image/png": "[encoded data removed]",
            "text/plain": [
              "<Figure size 864x360 with 1 Axes>"
            ]
          },
          "metadata": {
            "needs_background": "light"
          }
        }
      ]
    },
    {
      "cell_type": "markdown",
      "metadata": {
        "id": "A9yLJ-GIT6Rh"
      },
      "source": [
        "Even from the scatterplot you can see that there is neither a linear nor a non-linear bond. There is therefore no meaningful relationship."
      ]
    },
    {
      "cell_type": "markdown",
      "metadata": {
        "id": "Ja-EybrrYWRq"
      },
      "source": [
        "### [RQ8 - c]"
      ]
    },
    {
      "cell_type": "code",
      "metadata": {
        "id": "nUX_OGUiYYGL"
      },
      "source": [
        "## We consider only the observations related to the columns of interest and create a new column.\n",
        "df4 = df.filter(['timestamp_created', 'timestamp_updated', 'weighted_vote_score', 'recommended'])\n",
        "df4[\"DiffTime\"] = df4.timestamp_updated - df4.timestamp_created"
      ],
      "execution_count": 62,
      "outputs": []
    },
    {
      "cell_type": "code",
      "metadata": {
        "id": "NL9x26QodyXy",
        "colab": {
          "base_uri": "https://localhost:8080/",
          "height": 366
        },
        "outputId": "3590aeaf-9aa3-4594-aaa0-b35d53af79a0"
      },
      "source": [
        "## Let us filter out the observations for which the positive and negative recommendations.\n",
        "df_T = df4[df.recommended == True]\n",
        "df_F = df4[df.recommended == False]\n",
        "\n",
        "## Conditioning on recommended variable and plotting DiffTime Vs. Weighted Vote Score.\n",
        "plt.subplot(1,2,1)\n",
        "plt.scatter(df_T.DiffTime, df_T.weighted_vote_score, label = 'Recommended = True')\n",
        "plt.title('DiffTime Vs. Weighted Vote Score (Recommended = True)')\n",
        "plt.subplot(1,2,2)\n",
        "plt.scatter(df_F.DiffTime, df_F.weighted_vote_score, label = 'Recommended = False')\n",
        "plt.title('DiffTime Vs. Weighted Vote Score (Recommended = False)')\n"
      ],
      "execution_count": 63,
      "outputs": [
        {
          "output_type": "execute_result",
          "data": {
            "text/plain": [
              "Text(0.5, 1.0, 'DiffTime Vs. Weighted Vote Score (Recommended = False)')"
            ]
          },
          "metadata": {},
          "execution_count": 63
        },
        {
          "output_type": "display_data",
          "data": {
            "image/png": "[encoded data removed]",
            "text/plain": [
              "<Figure size 864x360 with 2 Axes>"
            ]
          },
          "metadata": {
            "needs_background": "light"
          }
        }
      ]
    },
    {
      "cell_type": "markdown",
      "metadata": {
        "id": "kJDsl8OVl7M7"
      },
      "source": [
        "Even including a conditioning on the **recommended** variable, the relationship explored at the previous point does not change, as you can see from the scatterplot above."
      ]
    },
    {
      "cell_type": "markdown",
      "metadata": {
        "id": "AvEWt8kJmGQA"
      },
      "source": [
        "### [RQ8 - d]"
      ]
    },
    {
      "cell_type": "markdown",
      "metadata": {
        "id": "nW3k0-NUrAdJ"
      },
      "source": [
        "The histogram, barplot, scatterplot, and pie chart are exploratory analysis tools useful for graphically examining the data being studied to try to extract the characteristics present in the data.\n",
        "In particular, it shall:\n",
        "* **Histogram**: is a graph that traces the distribution of the values of a numerical variable as a series of bars. Each bar covers a range of numerical values called bin or class; the height of a bar indicates the frequency of the data points with a value within the corresponding bin. Histograms are useful for showing the general distributive characteristics of the data set variables. You can see roughly where the distribution peaks are, if the distribution is asymmetrical or symmetrical, and if there are outliers.\n",
        "* **Barplot**: is one of the most common types of graphics. Unlike the histogram, it shows the relationship between a numerical variable and a categorical one. Each entity of the categorical variable is represented as a bar. The size of the bar represents its numerical value. The main difference with the histogram graph is that a histogram has only one numerical variable as input and shows its distribution.\n",
        "* **Scatterplot**: is a chart type in which two variables of a data set are reported on a Cartesian space. The data are displayed through a collection of points each with a position on the horizontal axis determined by one variable and on the vertical axis determined by the other. The dispersion graphs show the relationship between two continuous variables, representing one variable on the x-axis and the other on the y-axis. For the correlation, they help to show the strength of the linear relationship between two variables, while for regression they often add an estimated line. In the dispersion plots for regression, the response variable is represented on the y-axis and the input variable on the x-axis. \n",
        "* **Piechart**:  is a circular statistical graph, divided into sections to illustrate the numerical proportion. In a pie chart, the arc length of each slice (and consequently its central angle and area) is proportional to the quantity it represents. Pie charts are widely used in business and mass media. However, they have been criticized, and many experts recommend avoiding them,  because research has shown that it is difficult to compare different sections of a given pie chart, or to compare data between different pie charts. Pie charts can be replaced in most cases by other charts such as bar chart, box plot, dot plot, etc"
      ]
    },
    {
      "cell_type": "markdown",
      "metadata": {
        "id": "6jiWgTkomIfO"
      },
      "source": [
        "The **boxplot chart** is a simple and powerful representation of a univariate distribution, proposed by J.W.Tukey.\n",
        "It is based on:\n",
        "* **x_min**, the minimum value of the distribution.\n",
        "* **Q1**, first quartile.\n",
        "* **Med**, second quartile.\n",
        "* **Q3**, third quartile.\n",
        "* **x_max**, the maximum value of the distribution.\n",
        "* **HInf** and **Hsup**, respectively lower and upper extremes, calculated with k = 1,5 or k = 3.\n",
        "Through this display you can show the location, dispersion, symmetry, tails and suspicious outliers.\n",
        "The median allows you to see the position of the distribution.\n",
        "The interquartile range (IQR = Q3 - Q1) allows you to see the data dispersion and increases as it grows.\n",
        "Still, you can see the asymmetry of the distribution by comparing the two boxes of the boxplot, ie (Q3 - Med) Vs (Med - Q1)\n",
        "If the two boxes are the same, there is symmetry in the distribution.\n",
        "If the left box is shorter than the right box, the distribution is asymmetric positive.\n",
        "If the left box is longer than the right box, the distribution is asymmetrical negative.\n",
        "Finally, looking at the moustache of the boxplot, you realize the presence of suspicious outliers and the length of the tails. The classification of outliers, in particular, is based on the \"fences\"; that is, it is based on the hypothesis that the regular data in the center are approximately symmetrical as in the standard normal case. In case of strong asymmetries, the \"suspected outliers\" of the boxplot are often the normal product of the data generating process."
      ]
    },
    {
      "cell_type": "markdown",
      "metadata": {
        "id": "OfzscA6nfY5A"
      },
      "source": [
        "**----------------------------------------------------------------------------**"
      ]
    },
    {
      "cell_type": "markdown",
      "metadata": {
        "id": "Q9WY0xuafcb8"
      },
      "source": [
        "## TQ1\n",
        "\n",
        "* It computes the k-th element in ascending order present in the set.\n",
        "* T(n + 1) + T(n + 2) + T(n + 3) + ... +T(1) = (n - 1) * O(n) -> O(n^2) if we don't consider the 'loop case'.\n",
        "> The loop case occurs when r is equal to 1 and s is always assigned the maximum number selected by A. This does not decrease the length of L and allows it to not reach the base case.\n",
        "* Omega(n)"
      ]
    },
    {
      "cell_type": "markdown",
      "metadata": {
        "id": "ILP5xSfNq0kz"
      },
      "source": [
        "## TQ2\n",
        "\n",
        "* Let's first analyze swapList():\n",
        "> The function works in /2 O(n)=O(n) because there is a loop in the order *O(n/2)* and the remaining operations in constant time. The total Splitswap time is: *T(n) = T(n/2) + T(n/2) + O(n)* because the function performs the first two operations with constant time generating two recursive calls of time *T(n) = T(n / 2).* Applying the main theorem, you will get: *T(n) = 2T(n/2) + O(n)* so *a = b = 2* and *f(n) = O(n)* . We fall in case 2 of MT: *𝑇(𝑛) = Θ(𝑛𝑙𝑜𝑔𝑏𝑎) ⟹ 𝑇(𝑛) = Θ(𝑛𝑙𝑜𝑔𝑏𝑎𝑙𝑜𝑔𝑛)* because *𝑙𝑜𝑔22 = 1*, so our *𝑇(𝑛) = 𝑂(𝑛𝑙𝑜𝑔𝑛)*. \n",
        "The algorithm that input the a array, an index l and a length n , leaves intact the first elements l-1 of the array. Then, starting from the element with index l, it takes a sub-array of length n. Actually, the algorithm does not create a sub-array but continues to operate on the original array to using the sections delimited by the indices l and n. The concept of sub-arrayarraySolo is only introduced to make the explanation easier. The operations are as follows:\n",
        ">* the algorithm that input the a array, an index l and a length n , leaves intact the first elements l-1 of the array. Then, starting from the element with index l, it takes a sub-array of length n. Actually, the algorithm does not create a sub-array but continues to operate on the original array to using the sections delimited by the indices l and n. The concept of sub-arrayarraySolo is only introduced to make the explanation easier. The operations are as follows: the algorithm splits the sub-array in half and recursively repeats the operation until its length is equal to 1. Next, it returns to previous calls while running the swapList subroutine, which inverts the elements of each smaller subarray, until at the end of the calls the original subarray of length n appears inverted.\n",
        "In my opinion the algorithm is not optimal because probably the recursion could be replaced by a loop for or a loop while and therefore by a more efficient iteration."
      ]
    },
    {
      "cell_type": "markdown",
      "metadata": {
        "id": "xsE0K2xlf7L5"
      },
      "source": [
        "## TQ3\n",
        "### 1\n",
        "\n",
        "w = [2, 6, 12, 17]\n",
        "\n",
        "v = [4, 8, 7, 25]\n",
        "\n",
        "W  = 20\n",
        "\n",
        "\n",
        "Ordering the numbers inside the vector *v* in increasing order of weight and adding the numbers up to exceed the limit W we do not get the maximum possible sum, since 4 + 7 + 8 = 21 with a total weight of 20, but adding 25 + 4 = 29, there will be a greater number respecting however the weight limit; in fact the total weight reached with the sum of 25 and 4, will be equal to 19.\n",
        "\n",
        "### 2\n",
        "w = [3, 17, 1, 2]\n",
        "\n",
        "v = [9, 7, 6, 4]\n",
        "\n",
        "W  = 20\n",
        "\n",
        "Even ordering the values in descending order is not the optimal solution, in fact in the example just shown when you go to add the first two numbers, then 9 + 7 = 16, reaching the maximum value of weights available to us, You get a result lower than what we will get by adding the last 3 numbers, then 7 + 6 + 4, still respecting the weight limit.\n",
        "\n",
        "### 3\n",
        "Considering again the first couple of vectors, when we sort them we obtain:\n",
        "\n",
        "w = [4, 9, 7, 16]\n",
        "\n",
        "v = [2, 5, 6, 16]\n",
        "\n",
        "W  = 20\n",
        "\n",
        "Also this type of solution has its limit, as shown in the example above if we add the first 3 numbers respecting the weight limit, We still get a number lower than what we could get if we added the first and the last number respecting the number of weights.\n",
        "2 + 5 + 6 < 16 + 2"
      ]
    }
  ]
}
